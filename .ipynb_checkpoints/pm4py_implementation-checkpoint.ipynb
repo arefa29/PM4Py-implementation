{
 "cells": [
  {
   "cell_type": "markdown",
   "metadata": {},
   "source": [
    "# PM4PY for Process Mining\n",
    "<hr>\n",
    "pm4py is a python library that supports (state-of-the-art) process mining algorithms in python.\n",
    "<hr>"
   ]
  },
  {
   "cell_type": "code",
   "execution_count": 2,
   "metadata": {},
   "outputs": [
    {
     "name": "stdout",
     "output_type": "stream",
     "text": [
      "Collecting pm4pyNote: you may need to restart the kernel to use updated packages.\n",
      "  Using cached pm4py-2.2.22-py3-none-any.whl (1.8 MB)\n",
      "Collecting deprecation\n",
      "  Using cached deprecation-2.1.0-py2.py3-none-any.whl (11 kB)\n",
      "Collecting jsonpickle\n",
      "  Using cached jsonpickle-2.2.0-py2.py3-none-any.whl (39 kB)\n",
      "\n",
      "Collecting cvxopt\n",
      "  Using cached cvxopt-1.3.0-cp39-cp39-win_amd64.whl (12.7 MB)\n",
      "Requirement already satisfied: scipy in c:\\users\\arefa\\miniconda3\\envs\\data-science-env\\lib\\site-packages (from pm4py) (1.7.3)\n",
      "Collecting tqdm\n",
      "  Using cached tqdm-4.64.0-py2.py3-none-any.whl (78 kB)\n",
      "Collecting pyvis\n",
      "  Using cached pyvis-0.2.1-py3-none-any.whl\n",
      "Collecting lxml\n",
      "  Using cached lxml-4.9.0-cp39-cp39-win_amd64.whl (3.6 MB)\n",
      "Requirement already satisfied: numpy>=1.19.5 in c:\\users\\arefa\\miniconda3\\envs\\data-science-env\\lib\\site-packages (from pm4py) (1.21.5)\n",
      "Collecting graphviz\n",
      "  Using cached graphviz-0.20-py3-none-any.whl (46 kB)\n",
      "Collecting networkx\n",
      "  Using cached networkx-2.8.4-py3-none-any.whl (2.0 MB)\n",
      "Requirement already satisfied: pytz in c:\\users\\arefa\\miniconda3\\envs\\data-science-env\\lib\\site-packages (from pm4py) (2021.3)\n",
      "Requirement already satisfied: matplotlib in c:\\users\\arefa\\miniconda3\\envs\\data-science-env\\lib\\site-packages (from pm4py) (3.5.1)\n",
      "Collecting stringdist\n",
      "  Using cached StringDist-1.0.9-py3-none-any.whl\n",
      "Collecting sympy\n",
      "  Using cached sympy-1.10.1-py3-none-any.whl (6.4 MB)\n",
      "Collecting pydotplus\n",
      "  Using cached pydotplus-2.0.2-py3-none-any.whl\n",
      "Collecting intervaltree\n",
      "  Using cached intervaltree-3.1.0-py2.py3-none-any.whl\n",
      "Requirement already satisfied: pandas>=1.1.5 in c:\\users\\arefa\\miniconda3\\envs\\data-science-env\\lib\\site-packages (from pm4py) (1.4.1)\n",
      "Requirement already satisfied: python-dateutil>=2.8.1 in c:\\users\\arefa\\miniconda3\\envs\\data-science-env\\lib\\site-packages (from pandas>=1.1.5->pm4py) (2.8.2)\n",
      "Requirement already satisfied: six>=1.5 in c:\\users\\arefa\\miniconda3\\envs\\data-science-env\\lib\\site-packages (from python-dateutil>=2.8.1->pandas>=1.1.5->pm4py) (1.16.0)\n",
      "Requirement already satisfied: packaging in c:\\users\\arefa\\miniconda3\\envs\\data-science-env\\lib\\site-packages (from deprecation->pm4py) (21.3)\n",
      "Collecting sortedcontainers<3.0,>=2.0\n",
      "  Using cached sortedcontainers-2.4.0-py2.py3-none-any.whl (29 kB)\n",
      "Requirement already satisfied: pyparsing>=2.2.1 in c:\\users\\arefa\\miniconda3\\envs\\data-science-env\\lib\\site-packages (from matplotlib->pm4py) (3.0.4)\n",
      "Requirement already satisfied: fonttools>=4.22.0 in c:\\users\\arefa\\miniconda3\\envs\\data-science-env\\lib\\site-packages (from matplotlib->pm4py) (4.25.0)\n",
      "Requirement already satisfied: cycler>=0.10 in c:\\users\\arefa\\miniconda3\\envs\\data-science-env\\lib\\site-packages (from matplotlib->pm4py) (0.11.0)\n",
      "Requirement already satisfied: pillow>=6.2.0 in c:\\users\\arefa\\miniconda3\\envs\\data-science-env\\lib\\site-packages (from matplotlib->pm4py) (9.0.1)\n",
      "Requirement already satisfied: kiwisolver>=1.0.1 in c:\\users\\arefa\\miniconda3\\envs\\data-science-env\\lib\\site-packages (from matplotlib->pm4py) (1.3.2)\n",
      "Requirement already satisfied: ipython>=5.3.0 in c:\\users\\arefa\\miniconda3\\envs\\data-science-env\\lib\\site-packages (from pyvis->pm4py) (8.2.0)\n",
      "Requirement already satisfied: jinja2>=2.9.6 in c:\\users\\arefa\\miniconda3\\envs\\data-science-env\\lib\\site-packages (from pyvis->pm4py) (3.0.3)\n",
      "Requirement already satisfied: decorator in c:\\users\\arefa\\miniconda3\\envs\\data-science-env\\lib\\site-packages (from ipython>=5.3.0->pyvis->pm4py) (5.1.1)\n",
      "Requirement already satisfied: traitlets>=5 in c:\\users\\arefa\\miniconda3\\envs\\data-science-env\\lib\\site-packages (from ipython>=5.3.0->pyvis->pm4py) (5.1.1)\n",
      "Requirement already satisfied: backcall in c:\\users\\arefa\\miniconda3\\envs\\data-science-env\\lib\\site-packages (from ipython>=5.3.0->pyvis->pm4py) (0.2.0)\n",
      "Requirement already satisfied: prompt-toolkit!=3.0.0,!=3.0.1,<3.1.0,>=2.0.0 in c:\\users\\arefa\\miniconda3\\envs\\data-science-env\\lib\\site-packages (from ipython>=5.3.0->pyvis->pm4py) (3.0.20)\n",
      "Requirement already satisfied: colorama in c:\\users\\arefa\\miniconda3\\envs\\data-science-env\\lib\\site-packages (from ipython>=5.3.0->pyvis->pm4py) (0.4.4)\n",
      "Requirement already satisfied: pickleshare in c:\\users\\arefa\\miniconda3\\envs\\data-science-env\\lib\\site-packages (from ipython>=5.3.0->pyvis->pm4py) (0.7.5)\n",
      "Requirement already satisfied: pygments>=2.4.0 in c:\\users\\arefa\\miniconda3\\envs\\data-science-env\\lib\\site-packages (from ipython>=5.3.0->pyvis->pm4py) (2.11.2)\n",
      "Requirement already satisfied: stack-data in c:\\users\\arefa\\miniconda3\\envs\\data-science-env\\lib\\site-packages (from ipython>=5.3.0->pyvis->pm4py) (0.2.0)\n",
      "Requirement already satisfied: jedi>=0.16 in c:\\users\\arefa\\miniconda3\\envs\\data-science-env\\lib\\site-packages (from ipython>=5.3.0->pyvis->pm4py) (0.18.1)\n",
      "Requirement already satisfied: matplotlib-inline in c:\\users\\arefa\\miniconda3\\envs\\data-science-env\\lib\\site-packages (from ipython>=5.3.0->pyvis->pm4py) (0.1.2)\n",
      "Requirement already satisfied: setuptools>=18.5 in c:\\users\\arefa\\miniconda3\\envs\\data-science-env\\lib\\site-packages (from ipython>=5.3.0->pyvis->pm4py) (58.0.4)\n",
      "Requirement already satisfied: parso<0.9.0,>=0.8.0 in c:\\users\\arefa\\miniconda3\\envs\\data-science-env\\lib\\site-packages (from jedi>=0.16->ipython>=5.3.0->pyvis->pm4py) (0.8.3)\n",
      "Requirement already satisfied: MarkupSafe>=2.0 in c:\\users\\arefa\\miniconda3\\envs\\data-science-env\\lib\\site-packages (from jinja2>=2.9.6->pyvis->pm4py) (2.0.1)\n",
      "Requirement already satisfied: wcwidth in c:\\users\\arefa\\miniconda3\\envs\\data-science-env\\lib\\site-packages (from prompt-toolkit!=3.0.0,!=3.0.1,<3.1.0,>=2.0.0->ipython>=5.3.0->pyvis->pm4py) (0.2.5)\n",
      "Requirement already satisfied: asttokens in c:\\users\\arefa\\miniconda3\\envs\\data-science-env\\lib\\site-packages (from stack-data->ipython>=5.3.0->pyvis->pm4py) (2.0.5)\n",
      "Requirement already satisfied: executing in c:\\users\\arefa\\miniconda3\\envs\\data-science-env\\lib\\site-packages (from stack-data->ipython>=5.3.0->pyvis->pm4py) (0.8.3)\n",
      "Requirement already satisfied: pure-eval in c:\\users\\arefa\\miniconda3\\envs\\data-science-env\\lib\\site-packages (from stack-data->ipython>=5.3.0->pyvis->pm4py) (0.2.2)\n",
      "Collecting mpmath>=0.19\n",
      "  Using cached mpmath-1.2.1-py3-none-any.whl (532 kB)\n",
      "Installing collected packages: sortedcontainers, networkx, mpmath, jsonpickle, tqdm, sympy, stringdist, pyvis, pydotplus, lxml, intervaltree, graphviz, deprecation, cvxopt, pm4py\n",
      "Successfully installed cvxopt-1.3.0 deprecation-2.1.0 graphviz-0.20 intervaltree-3.1.0 jsonpickle-2.2.0 lxml-4.9.0 mpmath-1.2.1 networkx-2.8.4 pm4py-2.2.22 pydotplus-2.0.2 pyvis-0.2.1 sortedcontainers-2.4.0 stringdist-1.0.9 sympy-1.10.1 tqdm-4.64.0\n"
     ]
    }
   ],
   "source": [
    "pip install pm4py"
   ]
  },
  {
   "cell_type": "code",
   "execution_count": 4,
   "metadata": {},
   "outputs": [],
   "source": [
    "import pm4py"
   ]
  },
  {
   "cell_type": "markdown",
   "metadata": {},
   "source": [
    "## Importing XES files"
   ]
  },
  {
   "cell_type": "code",
   "execution_count": 5,
   "metadata": {},
   "outputs": [
    {
     "data": {
      "application/vnd.jupyter.widget-view+json": {
       "model_id": "0c67db52e99543d9bd3ddefe9b9958c4",
       "version_major": 2,
       "version_minor": 0
      },
      "text/plain": [
       "parsing log, completed traces ::   0%|          | 0/6 [00:00<?, ?it/s]"
      ]
     },
     "metadata": {},
     "output_type": "display_data"
    }
   ],
   "source": [
    "from pm4py.objects.log.importer.xes import importer as xes_importer\n",
    "\n",
    "# Event logs are stored as an extension of the Python list data structure.\n",
    "log = xes_importer.apply('C:/Users/AREFA/Documents/DataScienceProjects/PM4PY/running-example.xes')"
   ]
  },
  {
   "cell_type": "markdown",
   "metadata": {},
   "source": [
    "Event logs are stored as an extension of the Python list data structure. "
   ]
  },
  {
   "cell_type": "code",
   "execution_count": 6,
   "metadata": {},
   "outputs": [
    {
     "name": "stdout",
     "output_type": "stream",
     "text": [
      "{'attributes': {'concept:name': '3', 'creator': 'Fluxicon Nitro'}, 'events': [{'concept:name': 'register request', 'org:resource': 'Pete', 'time:timestamp': datetime.datetime(2010, 12, 30, 14, 32, tzinfo=datetime.timezone(datetime.timedelta(seconds=3600))), 'Activity': 'register request', 'Resource': 'Pete', 'Costs': '50'}, '..', {'concept:name': 'pay compensation', 'org:resource': 'Ellen', 'time:timestamp': datetime.datetime(2011, 1, 15, 10, 45, tzinfo=datetime.timezone(datetime.timedelta(seconds=3600))), 'Activity': 'pay compensation', 'Resource': 'Ellen', 'Costs': '200'}]}\n",
      "{'concept:name': 'register request', 'org:resource': 'Pete', 'time:timestamp': datetime.datetime(2010, 12, 30, 14, 32, tzinfo=datetime.timezone(datetime.timedelta(seconds=3600))), 'Activity': 'register request', 'Resource': 'Pete', 'Costs': '50'}\n"
     ]
    }
   ],
   "source": [
    "print(log[0]) #prints the first trace of the log\n",
    "print(log[0][0]) #prints the first event of the first trace"
   ]
  },
  {
   "cell_type": "markdown",
   "metadata": {},
   "source": [
    "#### apply() method\n",
    "The apply() method of the xes_importer, i.e. located in pm4py.objects.log.importer.xes.importer.py, contains two optional parameters: variant and parameters. \n",
    "- The variant parameter indicates which variant of the importer to use. \n",
    "- The parameters parameter is a Python dictionary, specifying specific parameters of choice."
   ]
  },
  {
   "cell_type": "code",
   "execution_count": 7,
   "metadata": {},
   "outputs": [
    {
     "data": {
      "application/vnd.jupyter.widget-view+json": {
       "model_id": "c3bb6a786e80454db7e573d9062dd4a9",
       "version_major": 2,
       "version_minor": 0
      },
      "text/plain": [
       "parsing log, completed traces ::   0%|          | 0/6 [00:00<?, ?it/s]"
      ]
     },
     "metadata": {},
     "output_type": "display_data"
    }
   ],
   "source": [
    "from pm4py.objects.log.importer.xes import importer as xes_importer\n",
    "variant = xes_importer.Variants.ITERPARSE\n",
    "parameters = {variant.value.Parameters.TIMESTAMP_SORT: True}\n",
    "log = xes_importer.apply('C:/Users/AREFA/Documents/DataScienceProjects/PM4PY/running-example.xes',\n",
    "                         variant=variant, parameters=parameters)"
   ]
  },
  {
   "cell_type": "markdown",
   "metadata": {},
   "source": [
    "## Importing CSV Files\n",
    "\n",
    "- Import directly as pandas dataframe\n",
    "- Import and convert the dataframe to an Event Log object. (not Event Stream)"
   ]
  },
  {
   "cell_type": "code",
   "execution_count": 8,
   "metadata": {
    "scrolled": true
   },
   "outputs": [
    {
     "data": {
      "text/html": [
       "<div>\n",
       "<style scoped>\n",
       "    .dataframe tbody tr th:only-of-type {\n",
       "        vertical-align: middle;\n",
       "    }\n",
       "\n",
       "    .dataframe tbody tr th {\n",
       "        vertical-align: top;\n",
       "    }\n",
       "\n",
       "    .dataframe thead th {\n",
       "        text-align: right;\n",
       "    }\n",
       "</style>\n",
       "<table border=\"1\" class=\"dataframe\">\n",
       "  <thead>\n",
       "    <tr style=\"text-align: right;\">\n",
       "      <th></th>\n",
       "      <th>case_id</th>\n",
       "      <th>activity</th>\n",
       "      <th>timestamp</th>\n",
       "      <th>costs</th>\n",
       "      <th>resource</th>\n",
       "    </tr>\n",
       "  </thead>\n",
       "  <tbody>\n",
       "    <tr>\n",
       "      <th>0</th>\n",
       "      <td>3</td>\n",
       "      <td>register request</td>\n",
       "      <td>2010-12-30 14:32:00+01:00</td>\n",
       "      <td>50</td>\n",
       "      <td>Pete</td>\n",
       "    </tr>\n",
       "    <tr>\n",
       "      <th>1</th>\n",
       "      <td>3</td>\n",
       "      <td>examine casually</td>\n",
       "      <td>2010-12-30 15:06:00+01:00</td>\n",
       "      <td>400</td>\n",
       "      <td>Mike</td>\n",
       "    </tr>\n",
       "    <tr>\n",
       "      <th>2</th>\n",
       "      <td>3</td>\n",
       "      <td>check ticket</td>\n",
       "      <td>2010-12-30 16:34:00+01:00</td>\n",
       "      <td>100</td>\n",
       "      <td>Ellen</td>\n",
       "    </tr>\n",
       "    <tr>\n",
       "      <th>3</th>\n",
       "      <td>3</td>\n",
       "      <td>decide</td>\n",
       "      <td>2011-01-06 09:18:00+01:00</td>\n",
       "      <td>200</td>\n",
       "      <td>Sara</td>\n",
       "    </tr>\n",
       "    <tr>\n",
       "      <th>4</th>\n",
       "      <td>3</td>\n",
       "      <td>reinitiate request</td>\n",
       "      <td>2011-01-06 12:18:00+01:00</td>\n",
       "      <td>200</td>\n",
       "      <td>Sara</td>\n",
       "    </tr>\n",
       "    <tr>\n",
       "      <th>5</th>\n",
       "      <td>3</td>\n",
       "      <td>examine thoroughly</td>\n",
       "      <td>2011-01-06 13:06:00+01:00</td>\n",
       "      <td>400</td>\n",
       "      <td>Sean</td>\n",
       "    </tr>\n",
       "    <tr>\n",
       "      <th>6</th>\n",
       "      <td>3</td>\n",
       "      <td>check ticket</td>\n",
       "      <td>2011-01-08 11:43:00+01:00</td>\n",
       "      <td>100</td>\n",
       "      <td>Pete</td>\n",
       "    </tr>\n",
       "    <tr>\n",
       "      <th>7</th>\n",
       "      <td>3</td>\n",
       "      <td>decide</td>\n",
       "      <td>2011-01-09 09:55:00+01:00</td>\n",
       "      <td>200</td>\n",
       "      <td>Sara</td>\n",
       "    </tr>\n",
       "    <tr>\n",
       "      <th>8</th>\n",
       "      <td>3</td>\n",
       "      <td>pay compensation</td>\n",
       "      <td>2011-01-15 10:45:00+01:00</td>\n",
       "      <td>200</td>\n",
       "      <td>Ellen</td>\n",
       "    </tr>\n",
       "    <tr>\n",
       "      <th>9</th>\n",
       "      <td>2</td>\n",
       "      <td>register request</td>\n",
       "      <td>2010-12-30 11:32:00+01:00</td>\n",
       "      <td>50</td>\n",
       "      <td>Mike</td>\n",
       "    </tr>\n",
       "    <tr>\n",
       "      <th>10</th>\n",
       "      <td>2</td>\n",
       "      <td>check ticket</td>\n",
       "      <td>2010-12-30 12:12:00+01:00</td>\n",
       "      <td>100</td>\n",
       "      <td>Mike</td>\n",
       "    </tr>\n",
       "    <tr>\n",
       "      <th>11</th>\n",
       "      <td>2</td>\n",
       "      <td>examine casually</td>\n",
       "      <td>2010-12-30 14:16:00+01:00</td>\n",
       "      <td>400</td>\n",
       "      <td>Sean</td>\n",
       "    </tr>\n",
       "    <tr>\n",
       "      <th>12</th>\n",
       "      <td>2</td>\n",
       "      <td>decide</td>\n",
       "      <td>2011-01-05 11:22:00+01:00</td>\n",
       "      <td>200</td>\n",
       "      <td>Sara</td>\n",
       "    </tr>\n",
       "    <tr>\n",
       "      <th>13</th>\n",
       "      <td>2</td>\n",
       "      <td>pay compensation</td>\n",
       "      <td>2011-01-08 12:05:00+01:00</td>\n",
       "      <td>200</td>\n",
       "      <td>Ellen</td>\n",
       "    </tr>\n",
       "    <tr>\n",
       "      <th>14</th>\n",
       "      <td>1</td>\n",
       "      <td>register request</td>\n",
       "      <td>2010-12-30 11:02:00+01:00</td>\n",
       "      <td>50</td>\n",
       "      <td>Pete</td>\n",
       "    </tr>\n",
       "    <tr>\n",
       "      <th>15</th>\n",
       "      <td>1</td>\n",
       "      <td>examine thoroughly</td>\n",
       "      <td>2010-12-31 10:06:00+01:00</td>\n",
       "      <td>400</td>\n",
       "      <td>Sue</td>\n",
       "    </tr>\n",
       "    <tr>\n",
       "      <th>16</th>\n",
       "      <td>1</td>\n",
       "      <td>check ticket</td>\n",
       "      <td>2011-01-05 15:12:00+01:00</td>\n",
       "      <td>100</td>\n",
       "      <td>Mike</td>\n",
       "    </tr>\n",
       "    <tr>\n",
       "      <th>17</th>\n",
       "      <td>1</td>\n",
       "      <td>decide</td>\n",
       "      <td>2011-01-06 11:18:00+01:00</td>\n",
       "      <td>200</td>\n",
       "      <td>Sara</td>\n",
       "    </tr>\n",
       "    <tr>\n",
       "      <th>18</th>\n",
       "      <td>1</td>\n",
       "      <td>reject request</td>\n",
       "      <td>2011-01-07 14:24:00+01:00</td>\n",
       "      <td>200</td>\n",
       "      <td>Pete</td>\n",
       "    </tr>\n",
       "    <tr>\n",
       "      <th>19</th>\n",
       "      <td>6</td>\n",
       "      <td>register request</td>\n",
       "      <td>2011-01-06 15:02:00+01:00</td>\n",
       "      <td>50</td>\n",
       "      <td>Mike</td>\n",
       "    </tr>\n",
       "  </tbody>\n",
       "</table>\n",
       "</div>"
      ],
      "text/plain": [
       "    case_id            activity                  timestamp  costs resource\n",
       "0         3    register request  2010-12-30 14:32:00+01:00     50     Pete\n",
       "1         3    examine casually  2010-12-30 15:06:00+01:00    400     Mike\n",
       "2         3        check ticket  2010-12-30 16:34:00+01:00    100    Ellen\n",
       "3         3              decide  2011-01-06 09:18:00+01:00    200     Sara\n",
       "4         3  reinitiate request  2011-01-06 12:18:00+01:00    200     Sara\n",
       "5         3  examine thoroughly  2011-01-06 13:06:00+01:00    400     Sean\n",
       "6         3        check ticket  2011-01-08 11:43:00+01:00    100     Pete\n",
       "7         3              decide  2011-01-09 09:55:00+01:00    200     Sara\n",
       "8         3    pay compensation  2011-01-15 10:45:00+01:00    200    Ellen\n",
       "9         2    register request  2010-12-30 11:32:00+01:00     50     Mike\n",
       "10        2        check ticket  2010-12-30 12:12:00+01:00    100     Mike\n",
       "11        2    examine casually  2010-12-30 14:16:00+01:00    400     Sean\n",
       "12        2              decide  2011-01-05 11:22:00+01:00    200     Sara\n",
       "13        2    pay compensation  2011-01-08 12:05:00+01:00    200    Ellen\n",
       "14        1    register request  2010-12-30 11:02:00+01:00     50     Pete\n",
       "15        1  examine thoroughly  2010-12-31 10:06:00+01:00    400      Sue\n",
       "16        1        check ticket  2011-01-05 15:12:00+01:00    100     Mike\n",
       "17        1              decide  2011-01-06 11:18:00+01:00    200     Sara\n",
       "18        1      reject request  2011-01-07 14:24:00+01:00    200     Pete\n",
       "19        6    register request  2011-01-06 15:02:00+01:00     50     Mike"
      ]
     },
     "execution_count": 8,
     "metadata": {},
     "output_type": "execute_result"
    }
   ],
   "source": [
    "import pandas as pd\n",
    "from pm4py.objects.log.util import dataframe_utils\n",
    "from pm4py.objects.conversion.log import converter as log_converter\n",
    "\n",
    "log_csv = pd.read_csv('C:/Users/AREFA/Documents/DataScienceProjects/PM4PY/running-example.csv', sep=';')\n",
    "log_csv.head(20)"
   ]
  },
  {
   "cell_type": "markdown",
   "metadata": {},
   "source": [
    "### Case Identifier for events\n",
    "CSV is like an Event Stream. For converting to Event log, we need to specify to the converter what attribute to use for case identifier of the events. \n",
    "\n",
    "The parameter we need to set for this, i.e., in the converter is the CASE_ID_KEY parameter. \n",
    "\n",
    "Its default value is 'case:concept:name'. Hence, when our input event data, stored in a csv-file has a column with the name case:concept:name, that column is used to define traces.\n",
    "\n",
    "Hence, we rename case_id column to case:concept:name."
   ]
  },
  {
   "cell_type": "code",
   "execution_count": 9,
   "metadata": {},
   "outputs": [
    {
     "data": {
      "text/html": [
       "<div>\n",
       "<style scoped>\n",
       "    .dataframe tbody tr th:only-of-type {\n",
       "        vertical-align: middle;\n",
       "    }\n",
       "\n",
       "    .dataframe tbody tr th {\n",
       "        vertical-align: top;\n",
       "    }\n",
       "\n",
       "    .dataframe thead th {\n",
       "        text-align: right;\n",
       "    }\n",
       "</style>\n",
       "<table border=\"1\" class=\"dataframe\">\n",
       "  <thead>\n",
       "    <tr style=\"text-align: right;\">\n",
       "      <th></th>\n",
       "      <th>case:concept:name</th>\n",
       "      <th>activity</th>\n",
       "      <th>timestamp</th>\n",
       "      <th>costs</th>\n",
       "      <th>resource</th>\n",
       "    </tr>\n",
       "  </thead>\n",
       "  <tbody>\n",
       "    <tr>\n",
       "      <th>0</th>\n",
       "      <td>3</td>\n",
       "      <td>register request</td>\n",
       "      <td>2010-12-30 14:32:00+01:00</td>\n",
       "      <td>50</td>\n",
       "      <td>Pete</td>\n",
       "    </tr>\n",
       "    <tr>\n",
       "      <th>1</th>\n",
       "      <td>3</td>\n",
       "      <td>examine casually</td>\n",
       "      <td>2010-12-30 15:06:00+01:00</td>\n",
       "      <td>400</td>\n",
       "      <td>Mike</td>\n",
       "    </tr>\n",
       "    <tr>\n",
       "      <th>2</th>\n",
       "      <td>3</td>\n",
       "      <td>check ticket</td>\n",
       "      <td>2010-12-30 16:34:00+01:00</td>\n",
       "      <td>100</td>\n",
       "      <td>Ellen</td>\n",
       "    </tr>\n",
       "    <tr>\n",
       "      <th>3</th>\n",
       "      <td>3</td>\n",
       "      <td>decide</td>\n",
       "      <td>2011-01-06 09:18:00+01:00</td>\n",
       "      <td>200</td>\n",
       "      <td>Sara</td>\n",
       "    </tr>\n",
       "    <tr>\n",
       "      <th>4</th>\n",
       "      <td>3</td>\n",
       "      <td>reinitiate request</td>\n",
       "      <td>2011-01-06 12:18:00+01:00</td>\n",
       "      <td>200</td>\n",
       "      <td>Sara</td>\n",
       "    </tr>\n",
       "  </tbody>\n",
       "</table>\n",
       "</div>"
      ],
      "text/plain": [
       "   case:concept:name            activity                  timestamp  costs  \\\n",
       "0                  3    register request  2010-12-30 14:32:00+01:00     50   \n",
       "1                  3    examine casually  2010-12-30 15:06:00+01:00    400   \n",
       "2                  3        check ticket  2010-12-30 16:34:00+01:00    100   \n",
       "3                  3              decide  2011-01-06 09:18:00+01:00    200   \n",
       "4                  3  reinitiate request  2011-01-06 12:18:00+01:00    200   \n",
       "\n",
       "  resource  \n",
       "0     Pete  \n",
       "1     Mike  \n",
       "2    Ellen  \n",
       "3     Sara  \n",
       "4     Sara  "
      ]
     },
     "execution_count": 9,
     "metadata": {},
     "output_type": "execute_result"
    }
   ],
   "source": [
    "log_csv.rename(columns={'case_id': 'case:concept:name'}, inplace=True)\n",
    "log_csv.head()"
   ]
  },
  {
   "cell_type": "code",
   "execution_count": 10,
   "metadata": {},
   "outputs": [],
   "source": [
    "log_csv = dataframe_utils.convert_timestamp_columns_in_df(log_csv)\n",
    "log_csv = log_csv.sort_values('timestamp')\n",
    "event_log = log_converter.apply(log_csv)"
   ]
  },
  {
   "cell_type": "code",
   "execution_count": 11,
   "metadata": {},
   "outputs": [
    {
     "name": "stdout",
     "output_type": "stream",
     "text": [
      "[{'attributes': {'concept:name': 1}, 'events': [{'activity': 'register request', 'timestamp': Timestamp('2010-12-30 10:02:00+0000', tz='UTC'), 'costs': 50, 'resource': 'Pete'}, '..', {'activity': 'reject request', 'timestamp': Timestamp('2011-01-07 13:24:00+0000', tz='UTC'), 'costs': 200, 'resource': 'Pete'}]}, '....', {'attributes': {'concept:name': 6}, 'events': [{'activity': 'register request', 'timestamp': Timestamp('2011-01-06 14:02:00+0000', tz='UTC'), 'costs': 50, 'resource': 'Mike'}, '..', {'activity': 'pay compensation', 'timestamp': Timestamp('2011-01-16 10:47:00+0000', tz='UTC'), 'costs': 200, 'resource': 'Mike'}]}]\n"
     ]
    }
   ],
   "source": [
    "print(event_log)"
   ]
  },
  {
   "cell_type": "markdown",
   "metadata": {},
   "source": [
    "The events are ordered by timestamp."
   ]
  },
  {
   "cell_type": "code",
   "execution_count": 12,
   "metadata": {},
   "outputs": [
    {
     "data": {
      "text/html": [
       "<div>\n",
       "<style scoped>\n",
       "    .dataframe tbody tr th:only-of-type {\n",
       "        vertical-align: middle;\n",
       "    }\n",
       "\n",
       "    .dataframe tbody tr th {\n",
       "        vertical-align: top;\n",
       "    }\n",
       "\n",
       "    .dataframe thead th {\n",
       "        text-align: right;\n",
       "    }\n",
       "</style>\n",
       "<table border=\"1\" class=\"dataframe\">\n",
       "  <thead>\n",
       "    <tr style=\"text-align: right;\">\n",
       "      <th></th>\n",
       "      <th>case</th>\n",
       "      <th>activity</th>\n",
       "      <th>timestamp</th>\n",
       "      <th>costs</th>\n",
       "      <th>resource</th>\n",
       "    </tr>\n",
       "  </thead>\n",
       "  <tbody>\n",
       "    <tr>\n",
       "      <th>14</th>\n",
       "      <td>1</td>\n",
       "      <td>register request</td>\n",
       "      <td>2010-12-30 10:02:00+00:00</td>\n",
       "      <td>50</td>\n",
       "      <td>Pete</td>\n",
       "    </tr>\n",
       "    <tr>\n",
       "      <th>9</th>\n",
       "      <td>2</td>\n",
       "      <td>register request</td>\n",
       "      <td>2010-12-30 10:32:00+00:00</td>\n",
       "      <td>50</td>\n",
       "      <td>Mike</td>\n",
       "    </tr>\n",
       "    <tr>\n",
       "      <th>10</th>\n",
       "      <td>2</td>\n",
       "      <td>check ticket</td>\n",
       "      <td>2010-12-30 11:12:00+00:00</td>\n",
       "      <td>100</td>\n",
       "      <td>Mike</td>\n",
       "    </tr>\n",
       "    <tr>\n",
       "      <th>11</th>\n",
       "      <td>2</td>\n",
       "      <td>examine casually</td>\n",
       "      <td>2010-12-30 13:16:00+00:00</td>\n",
       "      <td>400</td>\n",
       "      <td>Sean</td>\n",
       "    </tr>\n",
       "    <tr>\n",
       "      <th>0</th>\n",
       "      <td>3</td>\n",
       "      <td>register request</td>\n",
       "      <td>2010-12-30 13:32:00+00:00</td>\n",
       "      <td>50</td>\n",
       "      <td>Pete</td>\n",
       "    </tr>\n",
       "  </tbody>\n",
       "</table>\n",
       "</div>"
      ],
      "text/plain": [
       "    case          activity                 timestamp  costs resource\n",
       "14     1  register request 2010-12-30 10:02:00+00:00     50     Pete\n",
       "9      2  register request 2010-12-30 10:32:00+00:00     50     Mike\n",
       "10     2      check ticket 2010-12-30 11:12:00+00:00    100     Mike\n",
       "11     2  examine casually 2010-12-30 13:16:00+00:00    400     Sean\n",
       "0      3  register request 2010-12-30 13:32:00+00:00     50     Pete"
      ]
     },
     "execution_count": 12,
     "metadata": {},
     "output_type": "execute_result"
    }
   ],
   "source": [
    "log_csv.rename(columns={'case:concept:name': 'case'}, inplace=True)\n",
    "log_csv.head()"
   ]
  },
  {
   "cell_type": "markdown",
   "metadata": {},
   "source": [
    "### Case-Level attributes\n",
    "PM4Py allows us to specify that a column actually describes a case-level attribute (under the assumption that the attribute does not change during the execution of a process). \n",
    "\n",
    "However, for this, we need to specify an additional parameter, i.e., the CASE_ATTRIBUTE_PREFIX parameter, with default value 'case:'."
   ]
  },
  {
   "cell_type": "code",
   "execution_count": 13,
   "metadata": {},
   "outputs": [],
   "source": [
    "log_csv = pd.read_csv('C:/Users/AREFA/Documents/DataScienceProjects/PM4PY/running-example.csv', sep=';')\n",
    "log_csv.rename(columns={'case_id': 'case'}, inplace = True)\n",
    "log_csv.rename(columns={'clientID': 'case:clientID'}, inplace = True)\n",
    "parameters = {log_converter.Variants.TO_EVENT_LOG.value.Parameters.CASE_ID_KEY: 'case'}\n",
    "event_log = log_converter.apply(log_csv, parameters=parameters, variant=log_converter.Variants.TO_EVENT_LOG)"
   ]
  },
  {
   "cell_type": "markdown",
   "metadata": {},
   "source": [
    "## Exporting XES Files\n",
    "In the example, the log object is assumed to be an Event Log object. \n",
    "\n",
    "The exporter also accepts an Event Stream or DataFrame object as an input."
   ]
  },
  {
   "cell_type": "code",
   "execution_count": 14,
   "metadata": {},
   "outputs": [
    {
     "data": {
      "application/vnd.jupyter.widget-view+json": {
       "model_id": "78811a273a4c4650ae27c554621a39e7",
       "version_major": 2,
       "version_minor": 0
      },
      "text/plain": [
       "exporting log, completed traces ::   0%|          | 0/6 [00:00<?, ?it/s]"
      ]
     },
     "metadata": {},
     "output_type": "display_data"
    }
   ],
   "source": [
    "from pm4py.objects.log.exporter.xes import exporter as xes_exporter\n",
    "xes_exporter.apply(log, 'C:/Users/AREFA/Documents/DataScienceProjects/PM4PY/exported.xes')"
   ]
  },
  {
   "cell_type": "markdown",
   "metadata": {},
   "source": [
    "## Exporting CSV Files\n",
    "The Event log is converted to a Pandas dataframe then exported."
   ]
  },
  {
   "cell_type": "code",
   "execution_count": 15,
   "metadata": {},
   "outputs": [],
   "source": [
    "dataframe = log_converter.apply(log_csv, variant = log_converter.Variants.TO_DATA_FRAME)\n",
    "dataframe.to_csv('C:/Users/AREFA/Documents/DataScienceProjects/PM4PY/exported_csv.csv')"
   ]
  },
  {
   "cell_type": "markdown",
   "metadata": {},
   "source": [
    "## Filtering"
   ]
  },
  {
   "cell_type": "markdown",
   "metadata": {},
   "source": [
    "### 1. Filtering on timeframe\n",
    "Example: Traces (cases) within a specific time interval."
   ]
  },
  {
   "cell_type": "code",
   "execution_count": 16,
   "metadata": {},
   "outputs": [],
   "source": [
    "# For log object\n",
    "from pm4py.algo.filtering.log.timestamp import timestamp_filter\n",
    "filtered_log = timestamp_filter.filter_traces_contained(log, \"2011-03-09 00:00:00\", \"2012-01-18 23:59:59\")"
   ]
  },
  {
   "cell_type": "code",
   "execution_count": 17,
   "metadata": {
    "scrolled": true
   },
   "outputs": [
    {
     "data": {
      "text/html": [
       "<div>\n",
       "<style scoped>\n",
       "    .dataframe tbody tr th:only-of-type {\n",
       "        vertical-align: middle;\n",
       "    }\n",
       "\n",
       "    .dataframe tbody tr th {\n",
       "        vertical-align: top;\n",
       "    }\n",
       "\n",
       "    .dataframe thead th {\n",
       "        text-align: right;\n",
       "    }\n",
       "</style>\n",
       "<table border=\"1\" class=\"dataframe\">\n",
       "  <thead>\n",
       "    <tr style=\"text-align: right;\">\n",
       "      <th></th>\n",
       "      <th>case</th>\n",
       "      <th>activity</th>\n",
       "      <th>timestamp</th>\n",
       "      <th>costs</th>\n",
       "      <th>resource</th>\n",
       "    </tr>\n",
       "  </thead>\n",
       "  <tbody>\n",
       "    <tr>\n",
       "      <th>0</th>\n",
       "      <td>3</td>\n",
       "      <td>register request</td>\n",
       "      <td>2010-12-30 14:32:00+01:00</td>\n",
       "      <td>50</td>\n",
       "      <td>Pete</td>\n",
       "    </tr>\n",
       "    <tr>\n",
       "      <th>1</th>\n",
       "      <td>3</td>\n",
       "      <td>examine casually</td>\n",
       "      <td>2010-12-30 15:06:00+01:00</td>\n",
       "      <td>400</td>\n",
       "      <td>Mike</td>\n",
       "    </tr>\n",
       "    <tr>\n",
       "      <th>2</th>\n",
       "      <td>3</td>\n",
       "      <td>check ticket</td>\n",
       "      <td>2010-12-30 16:34:00+01:00</td>\n",
       "      <td>100</td>\n",
       "      <td>Ellen</td>\n",
       "    </tr>\n",
       "    <tr>\n",
       "      <th>3</th>\n",
       "      <td>3</td>\n",
       "      <td>decide</td>\n",
       "      <td>2011-01-06 09:18:00+01:00</td>\n",
       "      <td>200</td>\n",
       "      <td>Sara</td>\n",
       "    </tr>\n",
       "    <tr>\n",
       "      <th>4</th>\n",
       "      <td>3</td>\n",
       "      <td>reinitiate request</td>\n",
       "      <td>2011-01-06 12:18:00+01:00</td>\n",
       "      <td>200</td>\n",
       "      <td>Sara</td>\n",
       "    </tr>\n",
       "  </tbody>\n",
       "</table>\n",
       "</div>"
      ],
      "text/plain": [
       "   case            activity                  timestamp  costs resource\n",
       "0     3    register request  2010-12-30 14:32:00+01:00     50     Pete\n",
       "1     3    examine casually  2010-12-30 15:06:00+01:00    400     Mike\n",
       "2     3        check ticket  2010-12-30 16:34:00+01:00    100    Ellen\n",
       "3     3              decide  2011-01-06 09:18:00+01:00    200     Sara\n",
       "4     3  reinitiate request  2011-01-06 12:18:00+01:00    200     Sara"
      ]
     },
     "execution_count": 17,
     "metadata": {},
     "output_type": "execute_result"
    }
   ],
   "source": [
    "dataframe.head()"
   ]
  },
  {
   "cell_type": "code",
   "execution_count": 18,
   "metadata": {},
   "outputs": [
    {
     "data": {
      "text/plain": [
       "dtype('O')"
      ]
     },
     "execution_count": 18,
     "metadata": {},
     "output_type": "execute_result"
    }
   ],
   "source": [
    "dataframe['timestamp'].dtype"
   ]
  },
  {
   "cell_type": "code",
   "execution_count": 19,
   "metadata": {},
   "outputs": [],
   "source": [
    "#converting strings to datetime\n",
    "import datetime\n",
    "\n",
    "date1 = '2011-03-09 00:00:00'\n",
    "date1 = datetime.datetime.strptime(date1, '%Y-%m-%d %H:%M:%S')\n",
    "\n",
    "date2 = '2012-01-18 23:59:59'\n",
    "date2 = datetime.datetime.strptime(date2, '%Y-%m-%d %H:%M:%S')"
   ]
  },
  {
   "cell_type": "code",
   "execution_count": 20,
   "metadata": {},
   "outputs": [],
   "source": [
    "#converting timestamp column to type timestamp\n",
    "log_csv = dataframe_utils.convert_timestamp_columns_in_df(log_csv)\n",
    "dataframe = log_converter.apply(log_csv, variant = log_converter.Variants.TO_DATA_FRAME)"
   ]
  },
  {
   "cell_type": "code",
   "execution_count": 21,
   "metadata": {},
   "outputs": [],
   "source": [
    "# For Pandas Dataframe (traces that are intersecting with a time interval)\n",
    "from pm4py.algo.filtering.pandas.timestamp import timestamp_filter\n",
    "df_timest_intersecting = timestamp_filter.filter_traces_contained(dataframe, '2011-01-09 00:00:00', '2012-01-18 23:59:59',parameters={timestamp_filter.Parameters.CASE_ID_KEY: \"case\",timestamp_filter.Parameters.TIMESTAMP_KEY: \"timestamp\"})"
   ]
  },
  {
   "cell_type": "markdown",
   "metadata": {},
   "source": [
    "### 2. Filtering on Case Performance\n",
    "If a trace takes longer than a certain interval of time, remove it.\n",
    "\n",
    "Time parameters are given in seconds."
   ]
  },
  {
   "cell_type": "code",
   "execution_count": 22,
   "metadata": {},
   "outputs": [],
   "source": [
    "#for log\n",
    "from pm4py.algo.filtering.log.cases import case_filter\n",
    "filtered_log2 = case_filter.filter_case_performance(log, 86400, 864000)"
   ]
  },
  {
   "cell_type": "code",
   "execution_count": 23,
   "metadata": {},
   "outputs": [],
   "source": [
    "#for pandas df\n",
    "from pm4py.algo.filtering.pandas.cases import case_filter\n",
    "df_cases = case_filter.filter_case_performance(dataframe, min_case_performance=86400, max_case_performance=864000,parameters={case_filter.Parameters.CASE_ID_KEY: \"case\",case_filter.Parameters.TIMESTAMP_KEY: \"timestamp\"})"
   ]
  },
  {
   "cell_type": "markdown",
   "metadata": {},
   "source": [
    "### 3. Filtering on Start Activity"
   ]
  },
  {
   "cell_type": "code",
   "execution_count": 24,
   "metadata": {},
   "outputs": [],
   "source": [
    "from pm4py.algo.filtering.log.start_activities import start_activities_filter\n",
    "\n",
    "log_start = start_activities_filter.get_start_activities(log)\n",
    "filtered_log = start_activities_filter.apply(log, [\"register request\"])"
   ]
  },
  {
   "cell_type": "code",
   "execution_count": 25,
   "metadata": {
    "scrolled": true
   },
   "outputs": [
    {
     "data": {
      "text/html": [
       "<div>\n",
       "<style scoped>\n",
       "    .dataframe tbody tr th:only-of-type {\n",
       "        vertical-align: middle;\n",
       "    }\n",
       "\n",
       "    .dataframe tbody tr th {\n",
       "        vertical-align: top;\n",
       "    }\n",
       "\n",
       "    .dataframe thead th {\n",
       "        text-align: right;\n",
       "    }\n",
       "</style>\n",
       "<table border=\"1\" class=\"dataframe\">\n",
       "  <thead>\n",
       "    <tr style=\"text-align: right;\">\n",
       "      <th></th>\n",
       "      <th>case</th>\n",
       "      <th>activity</th>\n",
       "      <th>timestamp</th>\n",
       "      <th>costs</th>\n",
       "      <th>resource</th>\n",
       "    </tr>\n",
       "  </thead>\n",
       "  <tbody>\n",
       "    <tr>\n",
       "      <th>0</th>\n",
       "      <td>3</td>\n",
       "      <td>register request</td>\n",
       "      <td>2010-12-30 13:32:00+00:00</td>\n",
       "      <td>50</td>\n",
       "      <td>Pete</td>\n",
       "    </tr>\n",
       "    <tr>\n",
       "      <th>1</th>\n",
       "      <td>3</td>\n",
       "      <td>examine casually</td>\n",
       "      <td>2010-12-30 14:06:00+00:00</td>\n",
       "      <td>400</td>\n",
       "      <td>Mike</td>\n",
       "    </tr>\n",
       "    <tr>\n",
       "      <th>2</th>\n",
       "      <td>3</td>\n",
       "      <td>check ticket</td>\n",
       "      <td>2010-12-30 15:34:00+00:00</td>\n",
       "      <td>100</td>\n",
       "      <td>Ellen</td>\n",
       "    </tr>\n",
       "    <tr>\n",
       "      <th>3</th>\n",
       "      <td>3</td>\n",
       "      <td>decide</td>\n",
       "      <td>2011-01-06 08:18:00+00:00</td>\n",
       "      <td>200</td>\n",
       "      <td>Sara</td>\n",
       "    </tr>\n",
       "    <tr>\n",
       "      <th>4</th>\n",
       "      <td>3</td>\n",
       "      <td>reinitiate request</td>\n",
       "      <td>2011-01-06 11:18:00+00:00</td>\n",
       "      <td>200</td>\n",
       "      <td>Sara</td>\n",
       "    </tr>\n",
       "  </tbody>\n",
       "</table>\n",
       "</div>"
      ],
      "text/plain": [
       "   case            activity                 timestamp  costs resource\n",
       "0     3    register request 2010-12-30 13:32:00+00:00     50     Pete\n",
       "1     3    examine casually 2010-12-30 14:06:00+00:00    400     Mike\n",
       "2     3        check ticket 2010-12-30 15:34:00+00:00    100    Ellen\n",
       "3     3              decide 2011-01-06 08:18:00+00:00    200     Sara\n",
       "4     3  reinitiate request 2011-01-06 11:18:00+00:00    200     Sara"
      ]
     },
     "execution_count": 25,
     "metadata": {},
     "output_type": "execute_result"
    }
   ],
   "source": [
    "dataframe.head()"
   ]
  },
  {
   "cell_type": "code",
   "execution_count": 26,
   "metadata": {},
   "outputs": [],
   "source": [
    "#adding case identifier\n",
    "parameters = {log_converter.Variants.TO_EVENT_LOG.value.Parameters.CASE_ID_KEY: 'case'}\n",
    "dataframe = log_converter.apply(log_csv, parameters=parameters,variant = log_converter.Variants.TO_DATA_FRAME)"
   ]
  },
  {
   "cell_type": "code",
   "execution_count": 27,
   "metadata": {},
   "outputs": [
    {
     "name": "stderr",
     "output_type": "stream",
     "text": [
      "C:\\Users\\AREFA\\AppData\\Local\\Temp\\ipykernel_12560\\1570380912.py:3: DeprecatedWarning: apply_auto_filter is deprecated as of 2.2.11 and will be removed in 3.0.0. Removed\n",
      "  log_af_sa = start_activities_filter.apply_auto_filter(log, parameters={start_activities_filter.Parameters.DECREASING_FACTOR: 0.6})\n"
     ]
    }
   ],
   "source": [
    "from pm4py.algo.filtering.log.start_activities import start_activities_filter\n",
    "#only those with frequency of start activity greater than 0.6 are considered\n",
    "log_af_sa = start_activities_filter.apply_auto_filter(log, parameters={start_activities_filter.Parameters.DECREASING_FACTOR: 0.6}) "
   ]
  },
  {
   "cell_type": "markdown",
   "metadata": {},
   "source": [
    "### 4. Filtering on end activities\n",
    "This filter permits to keep only traces with an end activity among a set of specified activities. "
   ]
  },
  {
   "cell_type": "code",
   "execution_count": 28,
   "metadata": {},
   "outputs": [],
   "source": [
    "#to look at keys\n",
    "dataframe2 = log_converter.apply(log, parameters=parameters,variant = log_converter.Variants.TO_DATA_FRAME)"
   ]
  },
  {
   "cell_type": "code",
   "execution_count": 29,
   "metadata": {},
   "outputs": [
    {
     "data": {
      "text/html": [
       "<div>\n",
       "<style scoped>\n",
       "    .dataframe tbody tr th:only-of-type {\n",
       "        vertical-align: middle;\n",
       "    }\n",
       "\n",
       "    .dataframe tbody tr th {\n",
       "        vertical-align: top;\n",
       "    }\n",
       "\n",
       "    .dataframe thead th {\n",
       "        text-align: right;\n",
       "    }\n",
       "</style>\n",
       "<table border=\"1\" class=\"dataframe\">\n",
       "  <thead>\n",
       "    <tr style=\"text-align: right;\">\n",
       "      <th></th>\n",
       "      <th>concept:name</th>\n",
       "      <th>org:resource</th>\n",
       "      <th>time:timestamp</th>\n",
       "      <th>Activity</th>\n",
       "      <th>Resource</th>\n",
       "      <th>Costs</th>\n",
       "      <th>case:concept:name</th>\n",
       "      <th>case:creator</th>\n",
       "    </tr>\n",
       "  </thead>\n",
       "  <tbody>\n",
       "    <tr>\n",
       "      <th>0</th>\n",
       "      <td>register request</td>\n",
       "      <td>Pete</td>\n",
       "      <td>2010-12-30 11:02:00+01:00</td>\n",
       "      <td>register request</td>\n",
       "      <td>Pete</td>\n",
       "      <td>50</td>\n",
       "      <td>1</td>\n",
       "      <td>Fluxicon Nitro</td>\n",
       "    </tr>\n",
       "    <tr>\n",
       "      <th>1</th>\n",
       "      <td>examine thoroughly</td>\n",
       "      <td>Sue</td>\n",
       "      <td>2010-12-31 10:06:00+01:00</td>\n",
       "      <td>examine thoroughly</td>\n",
       "      <td>Sue</td>\n",
       "      <td>400</td>\n",
       "      <td>1</td>\n",
       "      <td>Fluxicon Nitro</td>\n",
       "    </tr>\n",
       "    <tr>\n",
       "      <th>2</th>\n",
       "      <td>check ticket</td>\n",
       "      <td>Mike</td>\n",
       "      <td>2011-01-05 15:12:00+01:00</td>\n",
       "      <td>check ticket</td>\n",
       "      <td>Mike</td>\n",
       "      <td>100</td>\n",
       "      <td>1</td>\n",
       "      <td>Fluxicon Nitro</td>\n",
       "    </tr>\n",
       "    <tr>\n",
       "      <th>3</th>\n",
       "      <td>decide</td>\n",
       "      <td>Sara</td>\n",
       "      <td>2011-01-06 11:18:00+01:00</td>\n",
       "      <td>decide</td>\n",
       "      <td>Sara</td>\n",
       "      <td>200</td>\n",
       "      <td>1</td>\n",
       "      <td>Fluxicon Nitro</td>\n",
       "    </tr>\n",
       "    <tr>\n",
       "      <th>4</th>\n",
       "      <td>reject request</td>\n",
       "      <td>Pete</td>\n",
       "      <td>2011-01-07 14:24:00+01:00</td>\n",
       "      <td>reject request</td>\n",
       "      <td>Pete</td>\n",
       "      <td>200</td>\n",
       "      <td>1</td>\n",
       "      <td>Fluxicon Nitro</td>\n",
       "    </tr>\n",
       "    <tr>\n",
       "      <th>5</th>\n",
       "      <td>register request</td>\n",
       "      <td>Mike</td>\n",
       "      <td>2010-12-30 11:32:00+01:00</td>\n",
       "      <td>register request</td>\n",
       "      <td>Mike</td>\n",
       "      <td>50</td>\n",
       "      <td>2</td>\n",
       "      <td>Fluxicon Nitro</td>\n",
       "    </tr>\n",
       "    <tr>\n",
       "      <th>6</th>\n",
       "      <td>check ticket</td>\n",
       "      <td>Mike</td>\n",
       "      <td>2010-12-30 12:12:00+01:00</td>\n",
       "      <td>check ticket</td>\n",
       "      <td>Mike</td>\n",
       "      <td>100</td>\n",
       "      <td>2</td>\n",
       "      <td>Fluxicon Nitro</td>\n",
       "    </tr>\n",
       "    <tr>\n",
       "      <th>7</th>\n",
       "      <td>examine casually</td>\n",
       "      <td>Sean</td>\n",
       "      <td>2010-12-30 14:16:00+01:00</td>\n",
       "      <td>examine casually</td>\n",
       "      <td>Sean</td>\n",
       "      <td>400</td>\n",
       "      <td>2</td>\n",
       "      <td>Fluxicon Nitro</td>\n",
       "    </tr>\n",
       "    <tr>\n",
       "      <th>8</th>\n",
       "      <td>decide</td>\n",
       "      <td>Sara</td>\n",
       "      <td>2011-01-05 11:22:00+01:00</td>\n",
       "      <td>decide</td>\n",
       "      <td>Sara</td>\n",
       "      <td>200</td>\n",
       "      <td>2</td>\n",
       "      <td>Fluxicon Nitro</td>\n",
       "    </tr>\n",
       "    <tr>\n",
       "      <th>9</th>\n",
       "      <td>pay compensation</td>\n",
       "      <td>Ellen</td>\n",
       "      <td>2011-01-08 12:05:00+01:00</td>\n",
       "      <td>pay compensation</td>\n",
       "      <td>Ellen</td>\n",
       "      <td>200</td>\n",
       "      <td>2</td>\n",
       "      <td>Fluxicon Nitro</td>\n",
       "    </tr>\n",
       "    <tr>\n",
       "      <th>10</th>\n",
       "      <td>register request</td>\n",
       "      <td>Pete</td>\n",
       "      <td>2010-12-30 14:32:00+01:00</td>\n",
       "      <td>register request</td>\n",
       "      <td>Pete</td>\n",
       "      <td>50</td>\n",
       "      <td>3</td>\n",
       "      <td>Fluxicon Nitro</td>\n",
       "    </tr>\n",
       "    <tr>\n",
       "      <th>11</th>\n",
       "      <td>examine casually</td>\n",
       "      <td>Mike</td>\n",
       "      <td>2010-12-30 15:06:00+01:00</td>\n",
       "      <td>examine casually</td>\n",
       "      <td>Mike</td>\n",
       "      <td>400</td>\n",
       "      <td>3</td>\n",
       "      <td>Fluxicon Nitro</td>\n",
       "    </tr>\n",
       "    <tr>\n",
       "      <th>12</th>\n",
       "      <td>check ticket</td>\n",
       "      <td>Ellen</td>\n",
       "      <td>2010-12-30 16:34:00+01:00</td>\n",
       "      <td>check ticket</td>\n",
       "      <td>Ellen</td>\n",
       "      <td>100</td>\n",
       "      <td>3</td>\n",
       "      <td>Fluxicon Nitro</td>\n",
       "    </tr>\n",
       "    <tr>\n",
       "      <th>13</th>\n",
       "      <td>decide</td>\n",
       "      <td>Sara</td>\n",
       "      <td>2011-01-06 09:18:00+01:00</td>\n",
       "      <td>decide</td>\n",
       "      <td>Sara</td>\n",
       "      <td>200</td>\n",
       "      <td>3</td>\n",
       "      <td>Fluxicon Nitro</td>\n",
       "    </tr>\n",
       "    <tr>\n",
       "      <th>14</th>\n",
       "      <td>reinitiate request</td>\n",
       "      <td>Sara</td>\n",
       "      <td>2011-01-06 12:18:00+01:00</td>\n",
       "      <td>reinitiate request</td>\n",
       "      <td>Sara</td>\n",
       "      <td>200</td>\n",
       "      <td>3</td>\n",
       "      <td>Fluxicon Nitro</td>\n",
       "    </tr>\n",
       "    <tr>\n",
       "      <th>15</th>\n",
       "      <td>examine thoroughly</td>\n",
       "      <td>Sean</td>\n",
       "      <td>2011-01-06 13:06:00+01:00</td>\n",
       "      <td>examine thoroughly</td>\n",
       "      <td>Sean</td>\n",
       "      <td>400</td>\n",
       "      <td>3</td>\n",
       "      <td>Fluxicon Nitro</td>\n",
       "    </tr>\n",
       "    <tr>\n",
       "      <th>16</th>\n",
       "      <td>check ticket</td>\n",
       "      <td>Pete</td>\n",
       "      <td>2011-01-08 11:43:00+01:00</td>\n",
       "      <td>check ticket</td>\n",
       "      <td>Pete</td>\n",
       "      <td>100</td>\n",
       "      <td>3</td>\n",
       "      <td>Fluxicon Nitro</td>\n",
       "    </tr>\n",
       "    <tr>\n",
       "      <th>17</th>\n",
       "      <td>decide</td>\n",
       "      <td>Sara</td>\n",
       "      <td>2011-01-09 09:55:00+01:00</td>\n",
       "      <td>decide</td>\n",
       "      <td>Sara</td>\n",
       "      <td>200</td>\n",
       "      <td>3</td>\n",
       "      <td>Fluxicon Nitro</td>\n",
       "    </tr>\n",
       "    <tr>\n",
       "      <th>18</th>\n",
       "      <td>pay compensation</td>\n",
       "      <td>Ellen</td>\n",
       "      <td>2011-01-15 10:45:00+01:00</td>\n",
       "      <td>pay compensation</td>\n",
       "      <td>Ellen</td>\n",
       "      <td>200</td>\n",
       "      <td>3</td>\n",
       "      <td>Fluxicon Nitro</td>\n",
       "    </tr>\n",
       "    <tr>\n",
       "      <th>19</th>\n",
       "      <td>register request</td>\n",
       "      <td>Ellen</td>\n",
       "      <td>2011-01-06 09:02:00+01:00</td>\n",
       "      <td>register request</td>\n",
       "      <td>Ellen</td>\n",
       "      <td>50</td>\n",
       "      <td>5</td>\n",
       "      <td>Fluxicon Nitro</td>\n",
       "    </tr>\n",
       "  </tbody>\n",
       "</table>\n",
       "</div>"
      ],
      "text/plain": [
       "          concept:name org:resource            time:timestamp  \\\n",
       "0     register request         Pete 2010-12-30 11:02:00+01:00   \n",
       "1   examine thoroughly          Sue 2010-12-31 10:06:00+01:00   \n",
       "2         check ticket         Mike 2011-01-05 15:12:00+01:00   \n",
       "3               decide         Sara 2011-01-06 11:18:00+01:00   \n",
       "4       reject request         Pete 2011-01-07 14:24:00+01:00   \n",
       "5     register request         Mike 2010-12-30 11:32:00+01:00   \n",
       "6         check ticket         Mike 2010-12-30 12:12:00+01:00   \n",
       "7     examine casually         Sean 2010-12-30 14:16:00+01:00   \n",
       "8               decide         Sara 2011-01-05 11:22:00+01:00   \n",
       "9     pay compensation        Ellen 2011-01-08 12:05:00+01:00   \n",
       "10    register request         Pete 2010-12-30 14:32:00+01:00   \n",
       "11    examine casually         Mike 2010-12-30 15:06:00+01:00   \n",
       "12        check ticket        Ellen 2010-12-30 16:34:00+01:00   \n",
       "13              decide         Sara 2011-01-06 09:18:00+01:00   \n",
       "14  reinitiate request         Sara 2011-01-06 12:18:00+01:00   \n",
       "15  examine thoroughly         Sean 2011-01-06 13:06:00+01:00   \n",
       "16        check ticket         Pete 2011-01-08 11:43:00+01:00   \n",
       "17              decide         Sara 2011-01-09 09:55:00+01:00   \n",
       "18    pay compensation        Ellen 2011-01-15 10:45:00+01:00   \n",
       "19    register request        Ellen 2011-01-06 09:02:00+01:00   \n",
       "\n",
       "              Activity Resource Costs case:concept:name    case:creator  \n",
       "0     register request     Pete    50                 1  Fluxicon Nitro  \n",
       "1   examine thoroughly      Sue   400                 1  Fluxicon Nitro  \n",
       "2         check ticket     Mike   100                 1  Fluxicon Nitro  \n",
       "3               decide     Sara   200                 1  Fluxicon Nitro  \n",
       "4       reject request     Pete   200                 1  Fluxicon Nitro  \n",
       "5     register request     Mike    50                 2  Fluxicon Nitro  \n",
       "6         check ticket     Mike   100                 2  Fluxicon Nitro  \n",
       "7     examine casually     Sean   400                 2  Fluxicon Nitro  \n",
       "8               decide     Sara   200                 2  Fluxicon Nitro  \n",
       "9     pay compensation    Ellen   200                 2  Fluxicon Nitro  \n",
       "10    register request     Pete    50                 3  Fluxicon Nitro  \n",
       "11    examine casually     Mike   400                 3  Fluxicon Nitro  \n",
       "12        check ticket    Ellen   100                 3  Fluxicon Nitro  \n",
       "13              decide     Sara   200                 3  Fluxicon Nitro  \n",
       "14  reinitiate request     Sara   200                 3  Fluxicon Nitro  \n",
       "15  examine thoroughly     Sean   400                 3  Fluxicon Nitro  \n",
       "16        check ticket     Pete   100                 3  Fluxicon Nitro  \n",
       "17              decide     Sara   200                 3  Fluxicon Nitro  \n",
       "18    pay compensation    Ellen   200                 3  Fluxicon Nitro  \n",
       "19    register request    Ellen    50                 5  Fluxicon Nitro  "
      ]
     },
     "execution_count": 29,
     "metadata": {},
     "output_type": "execute_result"
    }
   ],
   "source": [
    "dataframe2.head(20)"
   ]
  },
  {
   "cell_type": "code",
   "execution_count": 30,
   "metadata": {},
   "outputs": [],
   "source": [
    "from pm4py.algo.filtering.log.end_activities import end_activities_filter\n",
    "\n",
    "end_activities = end_activities_filter.get_end_activities(log)\n",
    "filtered_log_ea = end_activities_filter.apply(log, [\"pay compensation\"])"
   ]
  },
  {
   "cell_type": "code",
   "execution_count": 31,
   "metadata": {},
   "outputs": [
    {
     "name": "stdout",
     "output_type": "stream",
     "text": [
      "[{'attributes': {'concept:name': '2', 'creator': 'Fluxicon Nitro'}, 'events': [{'concept:name': 'register request', 'org:resource': 'Mike', 'time:timestamp': datetime.datetime(2010, 12, 30, 11, 32, tzinfo=datetime.timezone(datetime.timedelta(seconds=3600))), 'Activity': 'register request', 'Resource': 'Mike', 'Costs': '50', 'case:concept:name': '2', 'case:creator': 'Fluxicon Nitro'}, '..', {'concept:name': 'pay compensation', 'org:resource': 'Ellen', 'time:timestamp': datetime.datetime(2011, 1, 8, 12, 5, tzinfo=datetime.timezone(datetime.timedelta(seconds=3600))), 'Activity': 'pay compensation', 'Resource': 'Ellen', 'Costs': '200', 'case:concept:name': '2', 'case:creator': 'Fluxicon Nitro'}]}, '....', {'attributes': {'concept:name': '6', 'creator': 'Fluxicon Nitro'}, 'events': [{'concept:name': 'register request', 'org:resource': 'Mike', 'time:timestamp': datetime.datetime(2011, 1, 6, 15, 2, tzinfo=datetime.timezone(datetime.timedelta(seconds=3600))), 'Activity': 'register request', 'Resource': 'Mike', 'Costs': '50', 'case:concept:name': '6', 'case:creator': 'Fluxicon Nitro'}, '..', {'concept:name': 'pay compensation', 'org:resource': 'Mike', 'time:timestamp': datetime.datetime(2011, 1, 16, 11, 47, tzinfo=datetime.timezone(datetime.timedelta(seconds=3600))), 'Activity': 'pay compensation', 'Resource': 'Mike', 'Costs': '200', 'case:concept:name': '6', 'case:creator': 'Fluxicon Nitro'}]}]\n"
     ]
    }
   ],
   "source": [
    "print(filtered_log_ea)"
   ]
  },
  {
   "cell_type": "code",
   "execution_count": 32,
   "metadata": {},
   "outputs": [
    {
     "data": {
      "text/html": [
       "<div>\n",
       "<style scoped>\n",
       "    .dataframe tbody tr th:only-of-type {\n",
       "        vertical-align: middle;\n",
       "    }\n",
       "\n",
       "    .dataframe tbody tr th {\n",
       "        vertical-align: top;\n",
       "    }\n",
       "\n",
       "    .dataframe thead th {\n",
       "        text-align: right;\n",
       "    }\n",
       "</style>\n",
       "<table border=\"1\" class=\"dataframe\">\n",
       "  <thead>\n",
       "    <tr style=\"text-align: right;\">\n",
       "      <th></th>\n",
       "      <th>concept:name</th>\n",
       "      <th>org:resource</th>\n",
       "      <th>time:timestamp</th>\n",
       "      <th>Activity</th>\n",
       "      <th>Resource</th>\n",
       "      <th>Costs</th>\n",
       "      <th>case:concept:name</th>\n",
       "      <th>case:creator</th>\n",
       "    </tr>\n",
       "  </thead>\n",
       "  <tbody>\n",
       "    <tr>\n",
       "      <th>0</th>\n",
       "      <td>register request</td>\n",
       "      <td>Mike</td>\n",
       "      <td>2010-12-30 11:32:00+01:00</td>\n",
       "      <td>register request</td>\n",
       "      <td>Mike</td>\n",
       "      <td>50</td>\n",
       "      <td>2</td>\n",
       "      <td>Fluxicon Nitro</td>\n",
       "    </tr>\n",
       "    <tr>\n",
       "      <th>1</th>\n",
       "      <td>check ticket</td>\n",
       "      <td>Mike</td>\n",
       "      <td>2010-12-30 12:12:00+01:00</td>\n",
       "      <td>check ticket</td>\n",
       "      <td>Mike</td>\n",
       "      <td>100</td>\n",
       "      <td>2</td>\n",
       "      <td>Fluxicon Nitro</td>\n",
       "    </tr>\n",
       "    <tr>\n",
       "      <th>2</th>\n",
       "      <td>examine casually</td>\n",
       "      <td>Sean</td>\n",
       "      <td>2010-12-30 14:16:00+01:00</td>\n",
       "      <td>examine casually</td>\n",
       "      <td>Sean</td>\n",
       "      <td>400</td>\n",
       "      <td>2</td>\n",
       "      <td>Fluxicon Nitro</td>\n",
       "    </tr>\n",
       "    <tr>\n",
       "      <th>3</th>\n",
       "      <td>decide</td>\n",
       "      <td>Sara</td>\n",
       "      <td>2011-01-05 11:22:00+01:00</td>\n",
       "      <td>decide</td>\n",
       "      <td>Sara</td>\n",
       "      <td>200</td>\n",
       "      <td>2</td>\n",
       "      <td>Fluxicon Nitro</td>\n",
       "    </tr>\n",
       "    <tr>\n",
       "      <th>4</th>\n",
       "      <td>pay compensation</td>\n",
       "      <td>Ellen</td>\n",
       "      <td>2011-01-08 12:05:00+01:00</td>\n",
       "      <td>pay compensation</td>\n",
       "      <td>Ellen</td>\n",
       "      <td>200</td>\n",
       "      <td>2</td>\n",
       "      <td>Fluxicon Nitro</td>\n",
       "    </tr>\n",
       "    <tr>\n",
       "      <th>5</th>\n",
       "      <td>register request</td>\n",
       "      <td>Pete</td>\n",
       "      <td>2010-12-30 14:32:00+01:00</td>\n",
       "      <td>register request</td>\n",
       "      <td>Pete</td>\n",
       "      <td>50</td>\n",
       "      <td>3</td>\n",
       "      <td>Fluxicon Nitro</td>\n",
       "    </tr>\n",
       "    <tr>\n",
       "      <th>6</th>\n",
       "      <td>examine casually</td>\n",
       "      <td>Mike</td>\n",
       "      <td>2010-12-30 15:06:00+01:00</td>\n",
       "      <td>examine casually</td>\n",
       "      <td>Mike</td>\n",
       "      <td>400</td>\n",
       "      <td>3</td>\n",
       "      <td>Fluxicon Nitro</td>\n",
       "    </tr>\n",
       "    <tr>\n",
       "      <th>7</th>\n",
       "      <td>check ticket</td>\n",
       "      <td>Ellen</td>\n",
       "      <td>2010-12-30 16:34:00+01:00</td>\n",
       "      <td>check ticket</td>\n",
       "      <td>Ellen</td>\n",
       "      <td>100</td>\n",
       "      <td>3</td>\n",
       "      <td>Fluxicon Nitro</td>\n",
       "    </tr>\n",
       "    <tr>\n",
       "      <th>8</th>\n",
       "      <td>decide</td>\n",
       "      <td>Sara</td>\n",
       "      <td>2011-01-06 09:18:00+01:00</td>\n",
       "      <td>decide</td>\n",
       "      <td>Sara</td>\n",
       "      <td>200</td>\n",
       "      <td>3</td>\n",
       "      <td>Fluxicon Nitro</td>\n",
       "    </tr>\n",
       "    <tr>\n",
       "      <th>9</th>\n",
       "      <td>reinitiate request</td>\n",
       "      <td>Sara</td>\n",
       "      <td>2011-01-06 12:18:00+01:00</td>\n",
       "      <td>reinitiate request</td>\n",
       "      <td>Sara</td>\n",
       "      <td>200</td>\n",
       "      <td>3</td>\n",
       "      <td>Fluxicon Nitro</td>\n",
       "    </tr>\n",
       "    <tr>\n",
       "      <th>10</th>\n",
       "      <td>examine thoroughly</td>\n",
       "      <td>Sean</td>\n",
       "      <td>2011-01-06 13:06:00+01:00</td>\n",
       "      <td>examine thoroughly</td>\n",
       "      <td>Sean</td>\n",
       "      <td>400</td>\n",
       "      <td>3</td>\n",
       "      <td>Fluxicon Nitro</td>\n",
       "    </tr>\n",
       "    <tr>\n",
       "      <th>11</th>\n",
       "      <td>check ticket</td>\n",
       "      <td>Pete</td>\n",
       "      <td>2011-01-08 11:43:00+01:00</td>\n",
       "      <td>check ticket</td>\n",
       "      <td>Pete</td>\n",
       "      <td>100</td>\n",
       "      <td>3</td>\n",
       "      <td>Fluxicon Nitro</td>\n",
       "    </tr>\n",
       "    <tr>\n",
       "      <th>12</th>\n",
       "      <td>decide</td>\n",
       "      <td>Sara</td>\n",
       "      <td>2011-01-09 09:55:00+01:00</td>\n",
       "      <td>decide</td>\n",
       "      <td>Sara</td>\n",
       "      <td>200</td>\n",
       "      <td>3</td>\n",
       "      <td>Fluxicon Nitro</td>\n",
       "    </tr>\n",
       "    <tr>\n",
       "      <th>13</th>\n",
       "      <td>pay compensation</td>\n",
       "      <td>Ellen</td>\n",
       "      <td>2011-01-15 10:45:00+01:00</td>\n",
       "      <td>pay compensation</td>\n",
       "      <td>Ellen</td>\n",
       "      <td>200</td>\n",
       "      <td>3</td>\n",
       "      <td>Fluxicon Nitro</td>\n",
       "    </tr>\n",
       "    <tr>\n",
       "      <th>14</th>\n",
       "      <td>register request</td>\n",
       "      <td>Mike</td>\n",
       "      <td>2011-01-06 15:02:00+01:00</td>\n",
       "      <td>register request</td>\n",
       "      <td>Mike</td>\n",
       "      <td>50</td>\n",
       "      <td>6</td>\n",
       "      <td>Fluxicon Nitro</td>\n",
       "    </tr>\n",
       "    <tr>\n",
       "      <th>15</th>\n",
       "      <td>examine casually</td>\n",
       "      <td>Ellen</td>\n",
       "      <td>2011-01-06 16:06:00+01:00</td>\n",
       "      <td>examine casually</td>\n",
       "      <td>Ellen</td>\n",
       "      <td>400</td>\n",
       "      <td>6</td>\n",
       "      <td>Fluxicon Nitro</td>\n",
       "    </tr>\n",
       "    <tr>\n",
       "      <th>16</th>\n",
       "      <td>check ticket</td>\n",
       "      <td>Mike</td>\n",
       "      <td>2011-01-07 16:22:00+01:00</td>\n",
       "      <td>check ticket</td>\n",
       "      <td>Mike</td>\n",
       "      <td>100</td>\n",
       "      <td>6</td>\n",
       "      <td>Fluxicon Nitro</td>\n",
       "    </tr>\n",
       "    <tr>\n",
       "      <th>17</th>\n",
       "      <td>decide</td>\n",
       "      <td>Sara</td>\n",
       "      <td>2011-01-07 16:52:00+01:00</td>\n",
       "      <td>decide</td>\n",
       "      <td>Sara</td>\n",
       "      <td>200</td>\n",
       "      <td>6</td>\n",
       "      <td>Fluxicon Nitro</td>\n",
       "    </tr>\n",
       "    <tr>\n",
       "      <th>18</th>\n",
       "      <td>pay compensation</td>\n",
       "      <td>Mike</td>\n",
       "      <td>2011-01-16 11:47:00+01:00</td>\n",
       "      <td>pay compensation</td>\n",
       "      <td>Mike</td>\n",
       "      <td>200</td>\n",
       "      <td>6</td>\n",
       "      <td>Fluxicon Nitro</td>\n",
       "    </tr>\n",
       "  </tbody>\n",
       "</table>\n",
       "</div>"
      ],
      "text/plain": [
       "          concept:name org:resource            time:timestamp  \\\n",
       "0     register request         Mike 2010-12-30 11:32:00+01:00   \n",
       "1         check ticket         Mike 2010-12-30 12:12:00+01:00   \n",
       "2     examine casually         Sean 2010-12-30 14:16:00+01:00   \n",
       "3               decide         Sara 2011-01-05 11:22:00+01:00   \n",
       "4     pay compensation        Ellen 2011-01-08 12:05:00+01:00   \n",
       "5     register request         Pete 2010-12-30 14:32:00+01:00   \n",
       "6     examine casually         Mike 2010-12-30 15:06:00+01:00   \n",
       "7         check ticket        Ellen 2010-12-30 16:34:00+01:00   \n",
       "8               decide         Sara 2011-01-06 09:18:00+01:00   \n",
       "9   reinitiate request         Sara 2011-01-06 12:18:00+01:00   \n",
       "10  examine thoroughly         Sean 2011-01-06 13:06:00+01:00   \n",
       "11        check ticket         Pete 2011-01-08 11:43:00+01:00   \n",
       "12              decide         Sara 2011-01-09 09:55:00+01:00   \n",
       "13    pay compensation        Ellen 2011-01-15 10:45:00+01:00   \n",
       "14    register request         Mike 2011-01-06 15:02:00+01:00   \n",
       "15    examine casually        Ellen 2011-01-06 16:06:00+01:00   \n",
       "16        check ticket         Mike 2011-01-07 16:22:00+01:00   \n",
       "17              decide         Sara 2011-01-07 16:52:00+01:00   \n",
       "18    pay compensation         Mike 2011-01-16 11:47:00+01:00   \n",
       "\n",
       "              Activity Resource Costs case:concept:name    case:creator  \n",
       "0     register request     Mike    50                 2  Fluxicon Nitro  \n",
       "1         check ticket     Mike   100                 2  Fluxicon Nitro  \n",
       "2     examine casually     Sean   400                 2  Fluxicon Nitro  \n",
       "3               decide     Sara   200                 2  Fluxicon Nitro  \n",
       "4     pay compensation    Ellen   200                 2  Fluxicon Nitro  \n",
       "5     register request     Pete    50                 3  Fluxicon Nitro  \n",
       "6     examine casually     Mike   400                 3  Fluxicon Nitro  \n",
       "7         check ticket    Ellen   100                 3  Fluxicon Nitro  \n",
       "8               decide     Sara   200                 3  Fluxicon Nitro  \n",
       "9   reinitiate request     Sara   200                 3  Fluxicon Nitro  \n",
       "10  examine thoroughly     Sean   400                 3  Fluxicon Nitro  \n",
       "11        check ticket     Pete   100                 3  Fluxicon Nitro  \n",
       "12              decide     Sara   200                 3  Fluxicon Nitro  \n",
       "13    pay compensation    Ellen   200                 3  Fluxicon Nitro  \n",
       "14    register request     Mike    50                 6  Fluxicon Nitro  \n",
       "15    examine casually    Ellen   400                 6  Fluxicon Nitro  \n",
       "16        check ticket     Mike   100                 6  Fluxicon Nitro  \n",
       "17              decide     Sara   200                 6  Fluxicon Nitro  \n",
       "18    pay compensation     Mike   200                 6  Fluxicon Nitro  "
      ]
     },
     "execution_count": 32,
     "metadata": {},
     "output_type": "execute_result"
    }
   ],
   "source": [
    "dataframe3 = log_converter.apply(filtered_log_ea, parameters=parameters,variant = log_converter.Variants.TO_DATA_FRAME)\n",
    "dataframe3.head(20)"
   ]
  },
  {
   "cell_type": "markdown",
   "metadata": {},
   "source": [
    "Thus, case 1 is removed as it didn't end with 'pay compensation'"
   ]
  },
  {
   "cell_type": "markdown",
   "metadata": {},
   "source": [
    "### 5. Filtering on Attribute values\n",
    "\n",
    "#### Attributes of cases: \n",
    "- case identifier/name\n",
    "- resource (Examples: resource executing the case, such as Manager) (org:resource attribute)\n",
    "\n",
    "#### Attributes of events:\n",
    "- activity (concept:name attribute)\n",
    "- cost\n",
    "- resource\n",
    "\n",
    "Filtering on attributes values permits alternatively to:\n",
    "\n",
    "- Keep cases that contains at least an event with one of the given attribute values\n",
    "- Remove cases that contains an event with one of the the given attribute values\n",
    "- Keep events (trimming traces) that have one of the given attribute values\n",
    "- Remove events (trimming traces) that have one of the given attribute values"
   ]
  },
  {
   "cell_type": "code",
   "execution_count": 33,
   "metadata": {},
   "outputs": [],
   "source": [
    "#getting list of resources and activities before filtering \n",
    "from pm4py.algo.filtering.log.attributes import attributes_filter\n",
    "\n",
    "activities = attributes_filter.get_attribute_values(log, \"concept:name\")\n",
    "resources = attributes_filter.get_attribute_values(log, \"org:resource\")"
   ]
  },
  {
   "cell_type": "code",
   "execution_count": 34,
   "metadata": {
    "scrolled": true
   },
   "outputs": [
    {
     "name": "stdout",
     "output_type": "stream",
     "text": [
      "{'register request': 6, 'examine thoroughly': 3, 'check ticket': 9, 'decide': 9, 'reject request': 3, 'examine casually': 6, 'pay compensation': 3, 'reinitiate request': 3}\n",
      "{'Pete': 7, 'Sue': 2, 'Mike': 11, 'Sara': 12, 'Sean': 3, 'Ellen': 7}\n"
     ]
    }
   ],
   "source": [
    "print(activities)\n",
    "print(resources)"
   ]
  },
  {
   "cell_type": "code",
   "execution_count": 35,
   "metadata": {},
   "outputs": [],
   "source": [
    "#filter traces containing a given list of resources\n",
    "tracefilter_log_pos = attributes_filter.apply(log, [\"Resource10\"],parameters={attributes_filter.Parameters.ATTRIBUTE_KEY: \"org:resource\", attributes_filter.Parameters.POSITIVE: True})\n",
    "\n",
    "#filter traces not containing a given list of resources\n",
    "tracefilter_log_neg = attributes_filter.apply(log, [\"Resource10\"],parameters={attributes_filter.Parameters.ATTRIBUTE_KEY: \"org:resource\", attributes_filter.Parameters.POSITIVE: False})"
   ]
  },
  {
   "cell_type": "code",
   "execution_count": 36,
   "metadata": {},
   "outputs": [],
   "source": [
    "#applying on dataframe\n",
    "df= log_converter.apply(log, parameters=parameters,variant = log_converter.Variants.TO_DATA_FRAME)"
   ]
  },
  {
   "cell_type": "code",
   "execution_count": 37,
   "metadata": {},
   "outputs": [],
   "source": [
    "df_traces_pos = attributes_filter.apply(df, [\"Resource10\"],parameters={attributes_filter.Parameters.CASE_ID_KEY: \"case:concept:name\", attributes_filter.Parameters.ATTRIBUTE_KEY: \"org:resource\", attributes_filter.Parameters.POSITIVE: True})\n",
    "df_traces_neg = attributes_filter.apply(df, [\"Resource10\"], parameters={attributes_filter.Parameters.CASE_ID_KEY: \"case:concept:name\", attributes_filter.Parameters.ATTRIBUTE_KEY: \"org:resource\", attributes_filter.Parameters.POSITIVE: False})"
   ]
  },
  {
   "cell_type": "markdown",
   "metadata": {},
   "source": [
    "#### Trimming the cases"
   ]
  },
  {
   "cell_type": "code",
   "execution_count": 38,
   "metadata": {},
   "outputs": [],
   "source": [
    "#keep only the events performed by a given list of resources\n",
    "tracefilter_log_pos = attributes_filter.apply_events(log, [\"Resource10\"],parameters={attributes_filter.Parameters.ATTRIBUTE_KEY: \"org:resource\", attributes_filter.Parameters.POSITIVE: True})\n",
    "#keep only the events not performed by a given list of resources\n",
    "tracefilter_log_neg = attributes_filter.apply_events(log, [\"Resource10\"],parameters={attributes_filter.Parameters.ATTRIBUTE_KEY: \"org:resource\", attributes_filter.Parameters.POSITIVE: False})"
   ]
  },
  {
   "cell_type": "markdown",
   "metadata": {},
   "source": [
    "### 6. Filtering on numeric attributes\n",
    "Suppose we have a dataset with road traffic fine management process data and we want to filter on events that have amount between 30 and 36:"
   ]
  },
  {
   "cell_type": "code",
   "execution_count": 40,
   "metadata": {},
   "outputs": [
    {
     "data": {
      "application/vnd.jupyter.widget-view+json": {
       "model_id": "f91c7a231aff4d3ba33330e6cf4061bd",
       "version_major": 2,
       "version_minor": 0
      },
      "text/plain": [
       "parsing log, completed traces ::   0%|          | 0/150370 [00:00<?, ?it/s]"
      ]
     },
     "metadata": {},
     "output_type": "display_data"
    }
   ],
   "source": [
    "from pm4py.objects.log.importer.xes import importer as xes_importer\n",
    "log = xes_importer.apply('C:/Users/AREFA/Documents/DataScienceProjects/PM4PY/roadtrafficxesfile/Road_Traffic_Fine_Management_Process.xes.gz')"
   ]
  },
  {
   "cell_type": "code",
   "execution_count": 41,
   "metadata": {},
   "outputs": [],
   "source": [
    "log_traffic = log"
   ]
  },
  {
   "cell_type": "code",
   "execution_count": 43,
   "metadata": {},
   "outputs": [],
   "source": [
    "#filtering events\n",
    "filtered_log_traffic_events = attributes_filter.apply_numeric_events(log, 30, 36,parameters={attributes_filter.Parameters.ATTRIBUTE_KEY: \"amount\"})"
   ]
  },
  {
   "cell_type": "code",
   "execution_count": 45,
   "metadata": {},
   "outputs": [],
   "source": [
    "#filtering cases with at least one event where amount is between 30 and 36\n",
    "filtered_log_traffic_cases = attributes_filter.apply_numeric(log, 30, 36,parameters={attributes_filter.Parameters.ATTRIBUTE_KEY: \"amount\"})"
   ]
  },
  {
   "cell_type": "code",
   "execution_count": 46,
   "metadata": {},
   "outputs": [],
   "source": [
    "#at most 2 numeric attribute filters can be applied on cases\n",
    "#following code will filter cases where an event 'Add penalty' exists and amount is between 50 and 500\n",
    "filtered_log_traffic_cases2 = attributes_filter.apply_numeric(log, 50, 500, parameters={attributes_filter.Parameters.ATTRIBUTE_KEY: \"amount\", attributes_filter.Parameters.STREAM_FILTER_KEY1: \"concept:name\", attributes_filter.Parameters.STREAM_FILTER_VALUE1: \"Add penalty\"})"
   ]
  },
  {
   "cell_type": "code",
   "execution_count": 47,
   "metadata": {},
   "outputs": [
    {
     "name": "stdout",
     "output_type": "stream",
     "text": [
      "[{'attributes': {'concept:name': 'A1'}, 'events': [{'amount': 35.0, 'org:resource': '561', 'dismissal': 'NIL', 'concept:name': 'Create Fine', 'vehicleClass': 'A', 'totalPaymentAmount': 0.0, 'lifecycle:transition': 'complete', 'time:timestamp': datetime.datetime(2006, 7, 24, 0, 0, tzinfo=datetime.timezone(datetime.timedelta(seconds=7200))), 'article': 157, 'points': 0, 'case:concept:name': 'A1'}, '..', {'concept:name': 'Send Fine', 'lifecycle:transition': 'complete', 'expense': 11.0, 'time:timestamp': datetime.datetime(2006, 12, 5, 0, 0, tzinfo=datetime.timezone(datetime.timedelta(seconds=3600))), 'case:concept:name': 'A1'}]}, '....', {'attributes': {'concept:name': 'V9999'}, 'events': [{'amount': 131.0, 'org:resource': '25', 'dismissal': 'NIL', 'concept:name': 'Create Fine', 'vehicleClass': 'A', 'totalPaymentAmount': 0.0, 'lifecycle:transition': 'complete', 'time:timestamp': datetime.datetime(2002, 9, 7, 0, 0, tzinfo=datetime.timezone(datetime.timedelta(seconds=7200))), 'article': 142, 'points': 0, 'case:concept:name': 'V9999'}, '..', {'concept:name': 'Send for Credit Collection', 'lifecycle:transition': 'complete', 'time:timestamp': datetime.datetime(2004, 1, 10, 0, 0, tzinfo=datetime.timezone(datetime.timedelta(seconds=3600))), 'case:concept:name': 'V9999'}]}]\n"
     ]
    }
   ],
   "source": [
    "print(log_traffic)"
   ]
  },
  {
   "cell_type": "code",
   "execution_count": 48,
   "metadata": {},
   "outputs": [
    {
     "data": {
      "text/html": [
       "<div>\n",
       "<style scoped>\n",
       "    .dataframe tbody tr th:only-of-type {\n",
       "        vertical-align: middle;\n",
       "    }\n",
       "\n",
       "    .dataframe tbody tr th {\n",
       "        vertical-align: top;\n",
       "    }\n",
       "\n",
       "    .dataframe thead th {\n",
       "        text-align: right;\n",
       "    }\n",
       "</style>\n",
       "<table border=\"1\" class=\"dataframe\">\n",
       "  <thead>\n",
       "    <tr style=\"text-align: right;\">\n",
       "      <th></th>\n",
       "      <th>amount</th>\n",
       "      <th>org:resource</th>\n",
       "      <th>dismissal</th>\n",
       "      <th>concept:name</th>\n",
       "      <th>vehicleClass</th>\n",
       "      <th>totalPaymentAmount</th>\n",
       "      <th>lifecycle:transition</th>\n",
       "      <th>time:timestamp</th>\n",
       "      <th>article</th>\n",
       "      <th>points</th>\n",
       "      <th>case:concept:name</th>\n",
       "      <th>expense</th>\n",
       "      <th>notificationType</th>\n",
       "      <th>lastSent</th>\n",
       "      <th>paymentAmount</th>\n",
       "      <th>matricola</th>\n",
       "    </tr>\n",
       "  </thead>\n",
       "  <tbody>\n",
       "    <tr>\n",
       "      <th>0</th>\n",
       "      <td>35.0</td>\n",
       "      <td>561</td>\n",
       "      <td>NIL</td>\n",
       "      <td>Create Fine</td>\n",
       "      <td>A</td>\n",
       "      <td>0.0</td>\n",
       "      <td>complete</td>\n",
       "      <td>2006-07-24 00:00:00+02:00</td>\n",
       "      <td>157.0</td>\n",
       "      <td>0.0</td>\n",
       "      <td>A1</td>\n",
       "      <td>NaN</td>\n",
       "      <td>NaN</td>\n",
       "      <td>NaN</td>\n",
       "      <td>NaN</td>\n",
       "      <td>NaN</td>\n",
       "    </tr>\n",
       "    <tr>\n",
       "      <th>1</th>\n",
       "      <td>NaN</td>\n",
       "      <td>NaN</td>\n",
       "      <td>NaN</td>\n",
       "      <td>Send Fine</td>\n",
       "      <td>NaN</td>\n",
       "      <td>NaN</td>\n",
       "      <td>complete</td>\n",
       "      <td>2006-12-05 00:00:00+01:00</td>\n",
       "      <td>NaN</td>\n",
       "      <td>NaN</td>\n",
       "      <td>A1</td>\n",
       "      <td>11.0</td>\n",
       "      <td>NaN</td>\n",
       "      <td>NaN</td>\n",
       "      <td>NaN</td>\n",
       "      <td>NaN</td>\n",
       "    </tr>\n",
       "    <tr>\n",
       "      <th>2</th>\n",
       "      <td>35.0</td>\n",
       "      <td>561</td>\n",
       "      <td>NIL</td>\n",
       "      <td>Create Fine</td>\n",
       "      <td>A</td>\n",
       "      <td>0.0</td>\n",
       "      <td>complete</td>\n",
       "      <td>2006-08-02 00:00:00+02:00</td>\n",
       "      <td>157.0</td>\n",
       "      <td>0.0</td>\n",
       "      <td>A100</td>\n",
       "      <td>NaN</td>\n",
       "      <td>NaN</td>\n",
       "      <td>NaN</td>\n",
       "      <td>NaN</td>\n",
       "      <td>NaN</td>\n",
       "    </tr>\n",
       "    <tr>\n",
       "      <th>3</th>\n",
       "      <td>NaN</td>\n",
       "      <td>NaN</td>\n",
       "      <td>NaN</td>\n",
       "      <td>Send Fine</td>\n",
       "      <td>NaN</td>\n",
       "      <td>NaN</td>\n",
       "      <td>complete</td>\n",
       "      <td>2006-12-12 00:00:00+01:00</td>\n",
       "      <td>NaN</td>\n",
       "      <td>NaN</td>\n",
       "      <td>A100</td>\n",
       "      <td>11.0</td>\n",
       "      <td>NaN</td>\n",
       "      <td>NaN</td>\n",
       "      <td>NaN</td>\n",
       "      <td>NaN</td>\n",
       "    </tr>\n",
       "    <tr>\n",
       "      <th>4</th>\n",
       "      <td>NaN</td>\n",
       "      <td>NaN</td>\n",
       "      <td>NaN</td>\n",
       "      <td>Insert Fine Notification</td>\n",
       "      <td>NaN</td>\n",
       "      <td>NaN</td>\n",
       "      <td>complete</td>\n",
       "      <td>2007-01-15 00:00:00+01:00</td>\n",
       "      <td>NaN</td>\n",
       "      <td>NaN</td>\n",
       "      <td>A100</td>\n",
       "      <td>NaN</td>\n",
       "      <td>P</td>\n",
       "      <td>P</td>\n",
       "      <td>NaN</td>\n",
       "      <td>NaN</td>\n",
       "    </tr>\n",
       "  </tbody>\n",
       "</table>\n",
       "</div>"
      ],
      "text/plain": [
       "   amount org:resource dismissal              concept:name vehicleClass  \\\n",
       "0    35.0          561       NIL               Create Fine            A   \n",
       "1     NaN          NaN       NaN                 Send Fine          NaN   \n",
       "2    35.0          561       NIL               Create Fine            A   \n",
       "3     NaN          NaN       NaN                 Send Fine          NaN   \n",
       "4     NaN          NaN       NaN  Insert Fine Notification          NaN   \n",
       "\n",
       "   totalPaymentAmount lifecycle:transition             time:timestamp  \\\n",
       "0                 0.0             complete  2006-07-24 00:00:00+02:00   \n",
       "1                 NaN             complete  2006-12-05 00:00:00+01:00   \n",
       "2                 0.0             complete  2006-08-02 00:00:00+02:00   \n",
       "3                 NaN             complete  2006-12-12 00:00:00+01:00   \n",
       "4                 NaN             complete  2007-01-15 00:00:00+01:00   \n",
       "\n",
       "   article  points case:concept:name  expense notificationType lastSent  \\\n",
       "0    157.0     0.0                A1      NaN              NaN      NaN   \n",
       "1      NaN     NaN                A1     11.0              NaN      NaN   \n",
       "2    157.0     0.0              A100      NaN              NaN      NaN   \n",
       "3      NaN     NaN              A100     11.0              NaN      NaN   \n",
       "4      NaN     NaN              A100      NaN                P        P   \n",
       "\n",
       "   paymentAmount  matricola  \n",
       "0            NaN        NaN  \n",
       "1            NaN        NaN  \n",
       "2            NaN        NaN  \n",
       "3            NaN        NaN  \n",
       "4            NaN        NaN  "
      ]
     },
     "execution_count": 48,
     "metadata": {},
     "output_type": "execute_result"
    }
   ],
   "source": [
    "#converting log to df\n",
    "traffic_df = log_converter.apply(log_traffic, parameters=parameters, variant=log_converter.Variants.TO_DATA_FRAME)\n",
    "traffic_df.head()"
   ]
  },
  {
   "cell_type": "code",
   "execution_count": 51,
   "metadata": {},
   "outputs": [],
   "source": [
    "#applying the same filter on df\n",
    "filtered_df_events = attributes_filter.apply_numeric_events(traffic_df, 30, 36,parameters={attributes_filter.Parameters.CASE_ID_KEY: \"concept:name\", attributes_filter.Parameters.ATTRIBUTE_KEY: \"amount\"})\n",
    "\n",
    "filtered_df_cases = attributes_filter.apply_numeric(traffic_df, 30, 36,parameters={attributes_filter.Parameters.CASE_ID_KEY: \"concept:name\", attributes_filter.Parameters.ATTRIBUTE_KEY: \"amount\"})"
   ]
  },
  {
   "cell_type": "markdown",
   "metadata": {},
   "source": [
    "### Filtering on variants\n",
    "##### Variants\n",
    "- A variant is a set of cases that share the same activities in the same order.\n",
    "- We first get the list of variants in a given log.\n",
    "- The result is expressed as a dictionary where the key is the variant and value is the list of cases that share the variant."
   ]
  },
  {
   "cell_type": "code",
   "execution_count": 53,
   "metadata": {},
   "outputs": [],
   "source": [
    "#for log object\n",
    "from pm4py.algo.filtering.log.variants import variants_filter\n",
    "variants = variants_filter.get_variants(log)"
   ]
  },
  {
   "cell_type": "code",
   "execution_count": 54,
   "metadata": {},
   "outputs": [],
   "source": [
    "#for dataframe\n",
    "from pm4py.statistics.traces.generic.pandas import case_statistics\n",
    "variants_df = case_statistics.get_variants_df(df,parameters={case_statistics.Parameters.CASE_ID_KEY: \"case:concept:name\",\n",
    "                                                          case_statistics.Parameters.ACTIVITY_KEY: \"concept:name\"})"
   ]
  },
  {
   "cell_type": "code",
   "execution_count": 56,
   "metadata": {},
   "outputs": [],
   "source": [
    "#for getting frequency(no. of occurances) of variants, key=variant value=count\n",
    "from pm4py.statistics.traces.generic.log import case_statistics\n",
    "variants_count = case_statistics.get_variant_statistics(log)\n",
    "vraiants_count = sorted(variants_count, key=lambda x: x['count'], reverse=True )"
   ]
  },
  {
   "cell_type": "code",
   "execution_count": 59,
   "metadata": {},
   "outputs": [
    {
     "name": "stdout",
     "output_type": "stream",
     "text": [
      "{'variant': 'Create Fine,Send Fine,Insert Fine Notification,Add penalty,Send for Credit Collection', 'count': 56482}\n",
      "{'variant': 'Create Fine,Payment', 'count': 46371}\n"
     ]
    }
   ],
   "source": [
    "print(variants_count[0])\n",
    "print(variants_count[1])"
   ]
  },
  {
   "cell_type": "code",
   "execution_count": 60,
   "metadata": {},
   "outputs": [],
   "source": [
    "#getting frequencies from df\n",
    "from pm4py.statistics.traces.generic.pandas import case_statistics\n",
    "\n",
    "variants_count_df = case_statistics.get_variant_statistics(df,parameters={case_statistics.Parameters.CASE_ID_KEY: \"case:concept:name\",\n",
    "                                                                          case_statistics.Parameters.ACTIVITY_KEY: \"concept:name\",\n",
    "                                                                          case_statistics.Parameters.TIMESTAMP_KEY: \"time:timestamp\"})\n",
    "variants_count_df = sorted(variants_count_df, key=lambda x: x['case:concept:name'], reverse=True)"
   ]
  },
  {
   "cell_type": "code",
   "execution_count": 61,
   "metadata": {},
   "outputs": [
    {
     "name": "stdout",
     "output_type": "stream",
     "text": [
      "{'variant': 'register request,examine thoroughly,check ticket,decide,reject request', 'case:concept:name': 1}\n"
     ]
    }
   ],
   "source": [
    "print(variants_count_df[0])"
   ]
  },
  {
   "cell_type": "code",
   "execution_count": 62,
   "metadata": {},
   "outputs": [
    {
     "name": "stdout",
     "output_type": "stream",
     "text": [
      "{'variant': 'register request,examine casually,check ticket,decide,reinitiate request,examine thoroughly,check ticket,decide,pay compensation', 'case:concept:name': 1}\n"
     ]
    }
   ],
   "source": [
    "print(variants_count_df[1])"
   ]
  },
  {
   "cell_type": "markdown",
   "metadata": {},
   "source": [
    "- To filter based on variants, assume that variants is a list, whereby each element is a variant. \n",
    "- Note that the variants given in variants are kept."
   ]
  },
  {
   "cell_type": "code",
   "execution_count": 63,
   "metadata": {},
   "outputs": [],
   "source": [
    "from pm4py.algo.filtering.log.variants import variants_filter\n",
    "filtered_log_1 = variants_filter.apply(log, variants)"
   ]
  },
  {
   "cell_type": "code",
   "execution_count": 68,
   "metadata": {},
   "outputs": [
    {
     "name": "stdout",
     "output_type": "stream",
     "text": [
      "{'attributes': {'concept:name': 'A1'}, 'events': [{'amount': 35.0, 'org:resource': '561', 'dismissal': 'NIL', 'concept:name': 'Create Fine', 'vehicleClass': 'A', 'totalPaymentAmount': 0.0, 'lifecycle:transition': 'complete', 'time:timestamp': datetime.datetime(2006, 7, 24, 0, 0, tzinfo=datetime.timezone(datetime.timedelta(seconds=7200))), 'article': 157, 'points': 0, 'case:concept:name': 'A1'}, '..', {'concept:name': 'Send Fine', 'lifecycle:transition': 'complete', 'expense': 11.0, 'time:timestamp': datetime.datetime(2006, 12, 5, 0, 0, tzinfo=datetime.timezone(datetime.timedelta(seconds=3600))), 'case:concept:name': 'A1'}]}\n"
     ]
    }
   ],
   "source": [
    "print(filtered_log_1[0])"
   ]
  },
  {
   "cell_type": "code",
   "execution_count": 69,
   "metadata": {},
   "outputs": [],
   "source": [
    "from pm4py.algo.filtering.pandas.variants import variants_filter\n",
    "filtered_df_1 = variants_filter.apply(df, variants, \n",
    "                                      parameters={variants_filter.Parameters.CASE_ID_KEY: \"case:concept:name\",\n",
    "                                                  variants_filter.Parameters.ACTIVITY_KEY: \"concept:name\"})"
   ]
  },
  {
   "cell_type": "code",
   "execution_count": 73,
   "metadata": {},
   "outputs": [],
   "source": [
    "#for filtering out the variants in the list (i.e. not keeping)\n",
    "from pm4py.algo.filtering.log.variants import variants_filter\n",
    "filtered_log2 = variants_filter.apply(log, variants, parameters={variants_filter.Parameters.POSITIVE: False})"
   ]
  },
  {
   "cell_type": "code",
   "execution_count": 74,
   "metadata": {},
   "outputs": [
    {
     "name": "stderr",
     "output_type": "stream",
     "text": [
      "C:\\Users\\AREFA\\AppData\\Local\\Temp\\ipykernel_12560\\25948003.py:3: DeprecatedWarning: apply_auto_filter is deprecated as of 2.2.11 and will be removed in 3.0.0. Removed\n",
      "  auto_filtered_log = variants_filter.apply_auto_filter(log)\n"
     ]
    }
   ],
   "source": [
    "#for autofiltering the variants which are most common\n",
    "#paramter DECREASING_FACTOR can be given, default value is 0.6\n",
    "auto_filtered_log = variants_filter.apply_auto_filter(log)"
   ]
  },
  {
   "cell_type": "code",
   "execution_count": null,
   "metadata": {},
   "outputs": [],
   "source": []
  }
 ],
 "metadata": {
  "kernelspec": {
   "display_name": "Python 3 (ipykernel)",
   "language": "python",
   "name": "python3"
  },
  "language_info": {
   "codemirror_mode": {
    "name": "ipython",
    "version": 3
   },
   "file_extension": ".py",
   "mimetype": "text/x-python",
   "name": "python",
   "nbconvert_exporter": "python",
   "pygments_lexer": "ipython3",
   "version": "3.9.12"
  },
  "vscode": {
   "interpreter": {
    "hash": "98df250868171cc202e2fb084865f3d0ea3b36b5464c4c0cf44f560dd208afe0"
   }
  }
 },
 "nbformat": 4,
 "nbformat_minor": 2
}
